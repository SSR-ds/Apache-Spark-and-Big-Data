{
  "nbformat": 4,
  "nbformat_minor": 0,
  "metadata": {
    "colab": {
      "name": "Actions and Transformations on Spark.ipynb",
      "provenance": [],
      "collapsed_sections": [],
      "authorship_tag": "ABX9TyOEDiH+39Il6e4mi5iW/cco",
      "include_colab_link": true
    },
    "kernelspec": {
      "name": "python3",
      "display_name": "Python 3"
    }
  },
  "cells": [
    {
      "cell_type": "markdown",
      "metadata": {
        "id": "view-in-github",
        "colab_type": "text"
      },
      "source": [
        "<a href=\"https://colab.research.google.com/github/SSR-ds/Apache-Spark-and-Big-Data/blob/main/Actions_and_Transformations_on_Spark.ipynb\" target=\"_parent\"><img src=\"https://colab.research.google.com/assets/colab-badge.svg\" alt=\"Open In Colab\"/></a>"
      ]
    },
    {
      "cell_type": "code",
      "metadata": {
        "id": "XJ0IHXbdN7lv"
      },
      "source": [
        "#installing java 8 as spark is written in scala and requires jvm\r\n",
        "!apt-get install openjdk-8-jdk-headless -qq > /dev/null\r\n",
        "!wget -q https://downloads.apache.org/spark/spark-2.4.7/spark-2.4.7-bin-hadoop2.7.tgz\r\n",
        "!tar xf spark-2.4.7-bin-hadoop2.7.tgz\r\n",
        "!pip install -q findspark"
      ],
      "execution_count": 1,
      "outputs": []
    },
    {
      "cell_type": "code",
      "metadata": {
        "colab": {
          "base_uri": "https://localhost:8080/"
        },
        "id": "9VDcOWoNSehs",
        "outputId": "84e9c51f-20cd-47be-a994-62d70f80fe17"
      },
      "source": [
        "!ls /usr/lib/jvm/"
      ],
      "execution_count": 2,
      "outputs": [
        {
          "output_type": "stream",
          "text": [
            "default-java\t\t   java-11-openjdk-amd64     java-8-openjdk-amd64\n",
            "java-1.11.0-openjdk-amd64  java-1.8.0-openjdk-amd64\n"
          ],
          "name": "stdout"
        }
      ]
    },
    {
      "cell_type": "code",
      "metadata": {
        "id": "q_uLYVwYgyCv",
        "colab": {
          "base_uri": "https://localhost:8080/"
        },
        "outputId": "9ae46f1e-824c-4af4-c1ec-99f86ea95951"
      },
      "source": [
        "!ls"
      ],
      "execution_count": 3,
      "outputs": [
        {
          "output_type": "stream",
          "text": [
            "sample_data  spark-2.4.7-bin-hadoop2.7\tspark-2.4.7-bin-hadoop2.7.tgz\n"
          ],
          "name": "stdout"
        }
      ]
    },
    {
      "cell_type": "code",
      "metadata": {
        "colab": {
          "base_uri": "https://localhost:8080/"
        },
        "id": "8kYM1zQ4Soiz",
        "outputId": "b569f7c4-c8c5-4b70-a6a3-3c93c4d81a1b"
      },
      "source": [
        "!pip install -U pyarrow"
      ],
      "execution_count": 4,
      "outputs": [
        {
          "output_type": "stream",
          "text": [
            "Collecting pyarrow\n",
            "\u001b[?25l  Downloading https://files.pythonhosted.org/packages/d7/e1/27958a70848f8f7089bff8d6ebe42519daf01f976d28b481e1bfd52c8097/pyarrow-2.0.0-cp36-cp36m-manylinux2014_x86_64.whl (17.7MB)\n",
            "\u001b[K     |████████████████████████████████| 17.7MB 1.3MB/s \n",
            "\u001b[?25hRequirement already satisfied, skipping upgrade: numpy>=1.14 in /usr/local/lib/python3.6/dist-packages (from pyarrow) (1.19.5)\n",
            "Installing collected packages: pyarrow\n",
            "  Found existing installation: pyarrow 0.14.1\n",
            "    Uninstalling pyarrow-0.14.1:\n",
            "      Successfully uninstalled pyarrow-0.14.1\n",
            "Successfully installed pyarrow-2.0.0\n"
          ],
          "name": "stdout"
        }
      ]
    },
    {
      "cell_type": "code",
      "metadata": {
        "id": "UxfFPzzhSx9W"
      },
      "source": [
        "import os \r\n",
        "\r\n",
        "os.environ[\"JAVA_HOME\"] = \"/usr/lib/jvm/java-8-openjdk-amd64\"\r\n",
        "os.environ[\"SPARK_HOME\"] = \"/content/spark-2.4.7-bin-hadoop2.7\" "
      ],
      "execution_count": 5,
      "outputs": []
    },
    {
      "cell_type": "code",
      "metadata": {
        "id": "IF7vlCOcTZkB"
      },
      "source": [
        "import findspark  "
      ],
      "execution_count": 6,
      "outputs": []
    },
    {
      "cell_type": "code",
      "metadata": {
        "id": "B_L0IecaTdHo"
      },
      "source": [
        "findspark.init()"
      ],
      "execution_count": 7,
      "outputs": []
    },
    {
      "cell_type": "code",
      "metadata": {
        "id": "8JmKEP_CT23D"
      },
      "source": [
        "from pyspark.sql import SparkSession"
      ],
      "execution_count": 8,
      "outputs": []
    },
    {
      "cell_type": "code",
      "metadata": {
        "id": "NAPund0VT96X"
      },
      "source": [
        "spark = SparkSession.builder.master(\"local[*]\").getOrCreate()\r\n",
        "spark.conf.set(\"spark.executor.memory\", \"4g\")\r\n",
        "spark.conf.set(\"spark.driver.memory\", \"4g\")\r\n",
        "spark.conf.set(\"spark.memory.fraction\", \"0.9\")"
      ],
      "execution_count": 9,
      "outputs": []
    },
    {
      "cell_type": "code",
      "metadata": {
        "id": "2Cm0BI4fUkj4"
      },
      "source": [
        "import sys, tempfile, urllib\r\n",
        "import urllib.request\r\n",
        "from pyspark.sql.functions import *"
      ],
      "execution_count": 10,
      "outputs": []
    },
    {
      "cell_type": "code",
      "metadata": {
        "id": "ppT3QGxXVC0K"
      },
      "source": [
        "BASE_DIR = '/tmp'\r\n",
        "CORONA_FILE = os.path.join(BASE_DIR, 'coronavirus_dataset.csv')"
      ],
      "execution_count": 11,
      "outputs": []
    },
    {
      "cell_type": "code",
      "metadata": {
        "id": "jKpkex8HVZeb"
      },
      "source": [
        "CV_data = urllib.request.urlretrieve('https://raw.githubusercontent.com/srivatsan88/YouTubeLI/master/dataset/coronavirus/corona_dataset.csv',CORONA_FILE)"
      ],
      "execution_count": 12,
      "outputs": []
    },
    {
      "cell_type": "code",
      "metadata": {
        "colab": {
          "base_uri": "https://localhost:8080/"
        },
        "id": "NuxZIYQ9VvQ0",
        "outputId": "a345076b-89a6-4373-94c2-58112f8f71b6"
      },
      "source": [
        "!ls /tmp"
      ],
      "execution_count": 13,
      "outputs": [
        {
          "output_type": "stream",
          "text": [
            "blockmgr-f049a57c-13c9-4463-aff1-6e2ce669b532\n",
            "coronavirus_dataset.csv\n",
            "dap_multiplexer.943e7428053b.root.log.INFO.20210113-155253.49\n",
            "dap_multiplexer.INFO\n",
            "debugger_1kipmsgz44\n",
            "hsperfdata_root\n",
            "initgoogle_syslog_dir.0\n",
            "spark-3391e47e-ef36-46eb-b4e6-503786434ae0\n",
            "spark-c7b88000-e2b9-4c02-a5c4-65bdaeb24d2b\n"
          ],
          "name": "stdout"
        }
      ]
    },
    {
      "cell_type": "code",
      "metadata": {
        "id": "vynrIhKd2usr"
      },
      "source": [
        "BASE_DIR = '/tmp'\r\n",
        "TWITTER_FILE = os.path.join(BASE_DIR, 'twitter_dataset.csv')"
      ],
      "execution_count": 14,
      "outputs": []
    },
    {
      "cell_type": "code",
      "metadata": {
        "id": "MfQ4prWd3NN6"
      },
      "source": [
        "TWITTER_data = urllib.request.urlretrieve('https://raw.githubusercontent.com/srivatsan88/YouTubeLI/master/dataset/coronavirus/tweets.csv',TWITTER_FILE)"
      ],
      "execution_count": 15,
      "outputs": []
    },
    {
      "cell_type": "code",
      "metadata": {
        "colab": {
          "base_uri": "https://localhost:8080/"
        },
        "id": "sNd40nkd37ZD",
        "outputId": "15c14ae9-594d-4f2d-8b83-beee0c3943c0"
      },
      "source": [
        "!ls /tmp"
      ],
      "execution_count": 16,
      "outputs": [
        {
          "output_type": "stream",
          "text": [
            "blockmgr-f049a57c-13c9-4463-aff1-6e2ce669b532\n",
            "coronavirus_dataset.csv\n",
            "dap_multiplexer.943e7428053b.root.log.INFO.20210113-155253.49\n",
            "dap_multiplexer.INFO\n",
            "debugger_1kipmsgz44\n",
            "hsperfdata_root\n",
            "initgoogle_syslog_dir.0\n",
            "spark-3391e47e-ef36-46eb-b4e6-503786434ae0\n",
            "spark-c7b88000-e2b9-4c02-a5c4-65bdaeb24d2b\n",
            "twitter_dataset.csv\n"
          ],
          "name": "stdout"
        }
      ]
    },
    {
      "cell_type": "code",
      "metadata": {
        "id": "rHVTmtmZ4Ez3"
      },
      "source": [
        "CV_data = spark.read.option(\"inferSchema\", \"true\").csv(\"/tmp/coronavirus_dataset.csv\",header=True)"
      ],
      "execution_count": 17,
      "outputs": []
    },
    {
      "cell_type": "code",
      "metadata": {
        "id": "uC9lMMjk4cN3"
      },
      "source": [
        "TWITTER_data = spark.read.option(\"inferSchema\", \"true\").csv(\"/tmp/twitter_dataset.csv\",header=True)"
      ],
      "execution_count": 18,
      "outputs": []
    },
    {
      "cell_type": "code",
      "metadata": {
        "colab": {
          "base_uri": "https://localhost:8080/"
        },
        "id": "EJZcZwuB4lEr",
        "outputId": "81c28412-345f-4580-a864-55b7682916e4"
      },
      "source": [
        "CV_data.show()"
      ],
      "execution_count": 19,
      "outputs": [
        {
          "output_type": "stream",
          "text": [
            "+---+----------------+--------------------+--------+---------+-------------------+---------+-----+---------+--------------------+----+\n",
            "|_c0|           State|             Country|     Lat|     Long|               Date|Confirmed|Death|Recovered|       state_cleaned|City|\n",
            "+---+----------------+--------------------+--------+---------+-------------------+---------+-----+---------+--------------------+----+\n",
            "|  0|            null|            Thailand|    15.0|    101.0|2020-01-22 00:00:00|      2.0|  0.0|      0.0|             Bangkok|null|\n",
            "|  1|            null|               Japan|    36.0|    138.0|2020-01-22 00:00:00|      2.0|  0.0|      0.0|             Hiraide|null|\n",
            "|  2|            null|           Singapore|  1.2833| 103.8333|2020-01-22 00:00:00|      0.0|  0.0|      0.0|           Singapore|null|\n",
            "|  3|            null|               Nepal| 28.1667|    84.25|2020-01-22 00:00:00|      0.0|  0.0|      0.0|           Kathmandu|null|\n",
            "|  4|            null|            Malaysia|     2.5|    112.5|2020-01-22 00:00:00|      0.0|  0.0|      0.0|             Sarawak|null|\n",
            "|  5|British Columbia|              Canada| 49.2827|-123.1207|2020-01-22 00:00:00|      0.0|  0.0|      0.0|    British Columbia|null|\n",
            "|  6| New South Wales|           Australia|-33.8688| 151.2093|2020-01-22 00:00:00|      0.0|  0.0|      0.0|     New South Wales|null|\n",
            "|  7|        Victoria|           Australia|-37.8136| 144.9631|2020-01-22 00:00:00|      0.0|  0.0|      0.0|            Victoria|null|\n",
            "|  8|      Queensland|           Australia|-28.0167|    153.4|2020-01-22 00:00:00|      0.0|  0.0|      0.0|          Queensland|null|\n",
            "|  9|            null|            Cambodia|   11.55| 104.9167|2020-01-22 00:00:00|      0.0|  0.0|      0.0|          Phnom Penh|null|\n",
            "| 10|            null|           Sri Lanka|     7.0|     81.0|2020-01-22 00:00:00|      0.0|  0.0|      0.0|Sri Jayawardenapu...|null|\n",
            "| 11|            null|             Germany|    51.0|      9.0|2020-01-22 00:00:00|      0.0|  0.0|      0.0|              Berlin|null|\n",
            "| 12|            null|             Finland|    64.0|     26.0|2020-01-22 00:00:00|      0.0|  0.0|      0.0|            Helsinki|null|\n",
            "| 13|            null|United Arab Emirates|    24.0|     54.0|2020-01-22 00:00:00|      0.0|  0.0|      0.0|           Abu Dhabi|null|\n",
            "| 14|            null|         Philippines|    13.0|    122.0|2020-01-22 00:00:00|      0.0|  0.0|      0.0|              Manila|null|\n",
            "| 15|            null|               India|    21.0|     78.0|2020-01-22 00:00:00|      0.0|  0.0|      0.0|           New Delhi|null|\n",
            "| 16|            null|               Italy|    43.0|     12.0|2020-01-22 00:00:00|      0.0|  0.0|      0.0|                Rome|null|\n",
            "| 17|            null|              Sweden|    63.0|     16.0|2020-01-22 00:00:00|      0.0|  0.0|      0.0|           Stockholm|null|\n",
            "| 18|            null|               Spain|    40.0|     -4.0|2020-01-22 00:00:00|      0.0|  0.0|      0.0|              Toledo|null|\n",
            "| 19| South Australia|           Australia|-34.9285| 138.6007|2020-01-22 00:00:00|      0.0|  0.0|      0.0|     South Australia|null|\n",
            "+---+----------------+--------------------+--------+---------+-------------------+---------+-----+---------+--------------------+----+\n",
            "only showing top 20 rows\n",
            "\n"
          ],
          "name": "stdout"
        }
      ]
    },
    {
      "cell_type": "code",
      "metadata": {
        "colab": {
          "base_uri": "https://localhost:8080/"
        },
        "id": "r64PBtrQ6k2X",
        "outputId": "e30761b7-6b44-44db-d435-db7f45dafc25"
      },
      "source": [
        "TWITTER_data.show()"
      ],
      "execution_count": 20,
      "outputs": [
        {
          "output_type": "stream",
          "text": [
            "+---+----+--------------------+--------------------+--------------------+--------------------+--------------------+--------------------+\n",
            "|_c0| geo|                text|                user|            location|            entities|           sentiment|             country|\n",
            "+---+----+--------------------+--------------------+--------------------+--------------------+--------------------+--------------------+\n",
            "|  0|null|What is God sayin...|          petodinice|               Lagos|[('about #', 'CAR...|{'neg': 0.0, 'neu...|             Nigeria|\n",
            "|  1|null|\"BREAKING: \"\"this...| but i took the t...|                -… \"|     JerryfranksonJF|      Abuja, Nigeria|\"[(\"\"Arsenal's Mi...|\n",
            "|  2|null| #Coronavirus tes...|              cek422|   Pennsylvania, USA|                  []|{'neg': 0.173, 'n...|                 USA|\n",
            "|  3|null| Get ready for ma...|        InfectiousDz|                 NYC|[('World', 'ORG')...|{'neg': 0.085, 'n...|                 USA|\n",
            "|  4|null| The #coronavirus...|          vic_gibson|                null|                ['']|{'neg': 0.0, 'neu...|                null|\n",
            "|  5|null| COVID-19 update ...|      StewartNgilana|Durban | Port Eli...|[('Italy', 'GPE')...|{'neg': 0.178, 'n...|                 USA|\n",
            "|  6|null| It’s painful to ...|           BWheatnyc|             Florida|                  []|{'neg': 0.098, 'n...|                 USA|\n",
            "|  7|null| 📽️Friends, I wi...|             LorseaR|New South Wales, ...|[('Twitter', 'GPE...|{'neg': 0.123, 'n...|           Australia|\n",
            "|  8|null| Questions about ...|         straightj23|        Columbus, OH|[('NAfME', 'CARDI...|{'neg': 0.0, 'neu...|                 USA|\n",
            "|  9|null|How they’re deali...|       _______coolio| South East, England|['', ('Portsmouth...|{'neg': 0.126, 'n...|                  UK|\n",
            "| 10|null| BREAKING: Democr...|      champagneaylin|                null|[('Democrats', 'N...|{'neg': 0.221, 'n...|                null|\n",
            "| 11|null| “If we close dow...|       YorkLawLondon|                  UK|                  []|{'neg': 0.0, 'neu...|      United Kingdom|\n",
            "| 12|null| I pity the poor ...|      BeesonMargaret|                null|                ['']|{'neg': 0.227, 'n...|                null|\n",
            "| 13|null| We’re the heck w...|      harrytiffanyiv| Fort Washington, PA|[('the last 6 wee...|{'neg': 0.0, 'neu...|                 USA|\n",
            "| 14|null| I don't think sh...|         grammyheath|                null|[('Joy', 'PERSON'...|{'neg': 0.0, 'neu...|                null|\n",
            "| 15|null| Well written, so...|      barbara_ellena|Christchurch City...|                  []|{'neg': 0.0, 'neu...|         New Zealand|\n",
            "| 16|null| 1/2 CDC Director...|               fatal|                 USA|[('1/2', 'CARDINA...|{'neg': 0.139, 'n...|       United States|\n",
            "| 17|null| In all seriousne...|          pwjkmiller|                null|                ['']|{'neg': 0.218, 'n...|                null|\n",
            "| 18|null| Wash your hands....|        Mrrandy123RP|          Texas, USA|            ['', '']|{'neg': 0.0, 'neu...|                 USA|\n",
            "| 19|null| #CoronaVirusCana...|           aliensky0|           Worldwide|['', ('CoronaViru...|{'neg': 0.0, 'neu...|                 USA|\n",
            "+---+----+--------------------+--------------------+--------------------+--------------------+--------------------+--------------------+\n",
            "only showing top 20 rows\n",
            "\n"
          ],
          "name": "stdout"
        }
      ]
    },
    {
      "cell_type": "code",
      "metadata": {
        "colab": {
          "base_uri": "https://localhost:8080/"
        },
        "id": "MK4yhg6N7WmC",
        "outputId": "808766f4-887f-4f61-9491-346c6cdf399b"
      },
      "source": [
        "CV_data.count()"
      ],
      "execution_count": 21,
      "outputs": [
        {
          "output_type": "execute_result",
          "data": {
            "text/plain": [
              "27075"
            ]
          },
          "metadata": {
            "tags": []
          },
          "execution_count": 21
        }
      ]
    },
    {
      "cell_type": "code",
      "metadata": {
        "colab": {
          "base_uri": "https://localhost:8080/"
        },
        "id": "hDKWWolx7arm",
        "outputId": "828deecf-6ba5-4a12-f234-5d4402a3d2bb"
      },
      "source": [
        "TWITTER_data.count()  "
      ],
      "execution_count": 22,
      "outputs": [
        {
          "output_type": "execute_result",
          "data": {
            "text/plain": [
              "1000"
            ]
          },
          "metadata": {
            "tags": []
          },
          "execution_count": 22
        }
      ]
    },
    {
      "cell_type": "code",
      "metadata": {
        "colab": {
          "base_uri": "https://localhost:8080/"
        },
        "id": "lq22TDLt9YW0",
        "outputId": "d63cacec-a340-4eaf-b82e-066a8bc4054d"
      },
      "source": [
        "TWITTER_data.filter(\"country=='Australia'\").show()"
      ],
      "execution_count": 23,
      "outputs": [
        {
          "output_type": "stream",
          "text": [
            "+---+----+--------------------+---------------+--------------------+--------------------+--------------------+---------+\n",
            "|_c0| geo|                text|           user|            location|            entities|           sentiment|  country|\n",
            "+---+----+--------------------+---------------+--------------------+--------------------+--------------------+---------+\n",
            "|  7|null| 📽️Friends, I wi...|        LorseaR|New South Wales, ...|[('Twitter', 'GPE...|{'neg': 0.123, 'n...|Australia|\n",
            "| 77|null| There is no obje...|     chaser1066|    Sydney Australia|['', ('FamiliesFi...|{'neg': 0.224, 'n...|Australia|\n",
            "|107|null|how long before p...|       Mr_Ant87|Canberra, ACT, Au...|                ['']|{'neg': 0.254, 'n...|Australia|\n",
            "|144|null| The general solu...|  AlexDevantier|           Melbourne|['', ('EXAC', 'OR...|{'neg': 0.0, 'neu...|Australia|\n",
            "|150|null| President  has t...|    Doyle_Media|     Sydney • 1.0 AU|[('Coronavirus', ...|{'neg': 0.0, 'neu...|Australia|\n",
            "|276|null| Deserted #Rome: ...|   ColettaFrank|Sydney NSW Australia|[('Rome', 'GPE'),...|{'neg': 0.0, 'neu...|Australia|\n",
            "|324|null| President  annou...|    Doyle_Media|     Sydney • 1.0 AU|[('Europe', 'LOC'...|{'neg': 0.0, 'neu...|Australia|\n",
            "|444|null| 📩 I'm looking t...|  stefinitely85|Adelaide, South A...|[('Australia', 'G...|{'neg': 0.0, 'neu...|Australia|\n",
            "|448|null|\" Coronavirus: Th...|         HkTVBJ|Melbourne, Austra...|[('Australian', '...|{'neg': 0.109, 'n...|Australia|\n",
            "|450|null| So Australia's t...|       DrStephR|Sydney, New South...|[('Australia', 'G...|{'neg': 0.296, 'n...|Australia|\n",
            "|587|null|#KeepSafe #Austra...|  NthCoastMedia|           Australia|['', ('MassGather...|{'neg': 0.0, 'neu...|Australia|\n",
            "|634|null| Now we're virtue...|        Pavz881|           Australia|['', '', ('WhiteP...|{'neg': 0.119, 'n...|Australia|\n",
            "|695|null|#Stimulus for #SM...|    OZretailers|           Australia|['', '', '', '', ...|{'neg': 0.0, 'neu...|Australia|\n",
            "|702|null| I asked  this qu...|MarieCo92176893|            Canberra|[('this morning',...|{'neg': 0.136, 'n...|Australia|\n",
            "|737|null|Luckily the non-s...|     mfullilove|              Sydney| [('US', 'GPE'), '']|{'neg': 0.0, 'neu...|Australia|\n",
            "|753|null|The official US r...|     mfullilove|              Sydney| [('US', 'GPE'), '']|{'neg': 0.377, 'n...|Australia|\n",
            "|800|null| Friday's Italian...|   ColettaFrank|Sydney NSW Australia|[('Friday', 'DATE...|{'neg': 0.0, 'neu...|Australia|\n",
            "|959|null| Italy, today.I c...|     0Deflation|           Australia|[('Italy', 'GPE')...|{'neg': 0.0, 'neu...|Australia|\n",
            "|976|null| Definitely stay ...|MarieCo92176893|            Canberra|                ['']|{'neg': 0.0, 'neu...|Australia|\n",
            "+---+----+--------------------+---------------+--------------------+--------------------+--------------------+---------+\n",
            "\n"
          ],
          "name": "stdout"
        }
      ]
    },
    {
      "cell_type": "code",
      "metadata": {
        "colab": {
          "base_uri": "https://localhost:8080/"
        },
        "id": "s5kyu1by_-AG",
        "outputId": "a01b2b40-5840-4330-b6c3-ea9f7a765c16"
      },
      "source": [
        "TWITTER_data.filter(\"country=='Australia' and location like 'Syd%'\").show()"
      ],
      "execution_count": 24,
      "outputs": [
        {
          "output_type": "stream",
          "text": [
            "+---+----+--------------------+------------+--------------------+--------------------+--------------------+---------+\n",
            "|_c0| geo|                text|        user|            location|            entities|           sentiment|  country|\n",
            "+---+----+--------------------+------------+--------------------+--------------------+--------------------+---------+\n",
            "| 77|null| There is no obje...|  chaser1066|    Sydney Australia|['', ('FamiliesFi...|{'neg': 0.224, 'n...|Australia|\n",
            "|150|null| President  has t...| Doyle_Media|     Sydney • 1.0 AU|[('Coronavirus', ...|{'neg': 0.0, 'neu...|Australia|\n",
            "|276|null| Deserted #Rome: ...|ColettaFrank|Sydney NSW Australia|[('Rome', 'GPE'),...|{'neg': 0.0, 'neu...|Australia|\n",
            "|324|null| President  annou...| Doyle_Media|     Sydney • 1.0 AU|[('Europe', 'LOC'...|{'neg': 0.0, 'neu...|Australia|\n",
            "|450|null| So Australia's t...|    DrStephR|Sydney, New South...|[('Australia', 'G...|{'neg': 0.296, 'n...|Australia|\n",
            "|737|null|Luckily the non-s...|  mfullilove|              Sydney| [('US', 'GPE'), '']|{'neg': 0.0, 'neu...|Australia|\n",
            "|753|null|The official US r...|  mfullilove|              Sydney| [('US', 'GPE'), '']|{'neg': 0.377, 'n...|Australia|\n",
            "|800|null| Friday's Italian...|ColettaFrank|Sydney NSW Australia|[('Friday', 'DATE...|{'neg': 0.0, 'neu...|Australia|\n",
            "+---+----+--------------------+------------+--------------------+--------------------+--------------------+---------+\n",
            "\n"
          ],
          "name": "stdout"
        }
      ]
    },
    {
      "cell_type": "code",
      "metadata": {
        "id": "IlHqDuBjALgN"
      },
      "source": [
        "TWITTER_oz_data =TWITTER_data.filter(\"country=='Australia'\")"
      ],
      "execution_count": 25,
      "outputs": []
    },
    {
      "cell_type": "code",
      "metadata": {
        "colab": {
          "base_uri": "https://localhost:8080/"
        },
        "id": "fsB79367AQDb",
        "outputId": "cc7cca0e-25ea-4f13-c40a-77b1e0cefcc3"
      },
      "source": [
        "TWITTER_oz_data.explain()"
      ],
      "execution_count": 26,
      "outputs": [
        {
          "output_type": "stream",
          "text": [
            "== Physical Plan ==\n",
            "*(1) Project [_c0#42, geo#43, text#44, user#45, location#46, entities#47, sentiment#48, country#49]\n",
            "+- *(1) Filter (isnotnull(country#49) && (country#49 = Australia))\n",
            "   +- *(1) FileScan csv [_c0#42,geo#43,text#44,user#45,location#46,entities#47,sentiment#48,country#49] Batched: false, Format: CSV, Location: InMemoryFileIndex[file:/tmp/twitter_dataset.csv], PartitionFilters: [], PushedFilters: [IsNotNull(country), EqualTo(country,Australia)], ReadSchema: struct<_c0:int,geo:string,text:string,user:string,location:string,entities:string,sentiment:strin...\n"
          ],
          "name": "stdout"
        }
      ]
    },
    {
      "cell_type": "code",
      "metadata": {
        "id": "xYTJU-zLAX-k"
      },
      "source": [
        "TWITTER_oz_data = TWITTER_data.filter(\"country=='Australia' and location like 'Syd%'\")"
      ],
      "execution_count": 27,
      "outputs": []
    },
    {
      "cell_type": "code",
      "metadata": {
        "colab": {
          "base_uri": "https://localhost:8080/"
        },
        "id": "bDCYpdUQAdsV",
        "outputId": "e1387fef-ddc9-4fb6-d7cf-e32b0e181907"
      },
      "source": [
        "TWITTER_oz_data.explain()"
      ],
      "execution_count": 28,
      "outputs": [
        {
          "output_type": "stream",
          "text": [
            "== Physical Plan ==\n",
            "*(1) Project [_c0#42, geo#43, text#44, user#45, location#46, entities#47, sentiment#48, country#49]\n",
            "+- *(1) Filter (((isnotnull(country#49) && isnotnull(location#46)) && (country#49 = Australia)) && StartsWith(location#46, Syd))\n",
            "   +- *(1) FileScan csv [_c0#42,geo#43,text#44,user#45,location#46,entities#47,sentiment#48,country#49] Batched: false, Format: CSV, Location: InMemoryFileIndex[file:/tmp/twitter_dataset.csv], PartitionFilters: [], PushedFilters: [IsNotNull(country), IsNotNull(location), EqualTo(country,Australia), StringStartsWith(location,S..., ReadSchema: struct<_c0:int,geo:string,text:string,user:string,location:string,entities:string,sentiment:strin...\n"
          ],
          "name": "stdout"
        }
      ]
    },
    {
      "cell_type": "code",
      "metadata": {
        "id": "L4DcO8t8CwOB"
      },
      "source": [
        "TWITTER_oz_data = TWITTER_data.filter(col(\"location\").startswith(\"S\"))"
      ],
      "execution_count": 29,
      "outputs": []
    },
    {
      "cell_type": "code",
      "metadata": {
        "colab": {
          "base_uri": "https://localhost:8080/"
        },
        "id": "uvbT07REC6Fr",
        "outputId": "8f527af8-e871-4893-dc12-87f798283382"
      },
      "source": [
        "TWITTER_oz_data.show()"
      ],
      "execution_count": 30,
      "outputs": [
        {
          "output_type": "stream",
          "text": [
            "+---+----+--------------------+---------------+--------------------+--------------------+--------------------+---------+\n",
            "|_c0| geo|                text|           user|            location|            entities|           sentiment|  country|\n",
            "+---+----+--------------------+---------------+--------------------+--------------------+--------------------+---------+\n",
            "|  9|null|How they’re deali...|  _______coolio| South East, England|['', ('Portsmouth...|{'neg': 0.126, 'n...|       UK|\n",
            "| 33|null|\" #Coronavirus wa...| glass_jonathan|Some-Where in Canada|[('Italy', 'GPE')...|{'neg': 0.107, 'n...|   Canada|\n",
            "| 34|null| There is no obje...|       SFAuGrrl|   San Francisco, CA|['', ('FamiliesFi...|{'neg': 0.224, 'n...|      USA|\n",
            "| 46|null| TLDR explains. #...|   mamandurria1|   Sao Paulo, Brazil|                ['']|{'neg': 0.0, 'neu...|   Brazil|\n",
            "| 75|null| A woman in her 6...|  SusanTaylorSD|          San Diego |[('60s', 'DATE'),...|{'neg': 0.251, 'n...|      USA|\n",
            "| 77|null| There is no obje...|     chaser1066|    Sydney Australia|['', ('FamiliesFi...|{'neg': 0.224, 'n...|Australia|\n",
            "| 81|null|  We don't know i...|    Onemryeboah|       Sunyani,Ghana|[('Ghanaian', 'NO...|{'neg': 0.0, 'neu...|    Ghana|\n",
            "| 86|null| I ordered Alex J...|impeach_him_pls|South Jersey ,Uni...|[('Alex Jones', '...|{'neg': 0.109, 'n...|      USA|\n",
            "| 99|null| If you haven't w...|     LeahDaisyD|Santa Rosa Beach, FL|[('today', 'DATE'...|{'neg': 0.0, 'neu...|      USA|\n",
            "|125|null| It never ceases ...|        Viccimn|Somerset, California|                  []|{'neg': 0.169, 'n...|      USA|\n",
            "|132|null| So, you’ve proba...|   buddhacanvas|         Stolen Land|['', ('CoronaViru...|{'neg': 0.189, 'n...|    Error|\n",
            "|150|null| President  has t...|    Doyle_Media|     Sydney • 1.0 AU|[('Coronavirus', ...|{'neg': 0.0, 'neu...|Australia|\n",
            "|161|null| People of my hom...|    korkybuczek|Standing at the g...|                ['']|{'neg': 0.073, 'n...|  Austria|\n",
            "|179|null|Come on , please ...|  raquelquefois|  Sheffield, England|                  []|{'neg': 0.0, 'neu...|       UK|\n",
            "|188|null| Everyone includi...| Abdul_MahmoudG|             Somalia|                  []|{'neg': 0.0, 'neu...|  Somalia|\n",
            "|201|null| I ordered Alex J...|       SEval459|      Santa Rosa, CA|[('Alex Jones', '...|{'neg': 0.109, 'n...|      USA|\n",
            "|226|null|Because #coronavi...|    999Trillion|            S.B CITY|                ['']|{'neg': 0.115, 'n...|      USA|\n",
            "|258|null|They're canceling...|     DJTwinSpin|       San Francisco|[('less than 250'...|{'neg': 0.0, 'neu...|      USA|\n",
            "|273|null| Wearing a mask, ...|    BrynasSmile|     San Antonio, TX|[('Brazil', 'GPE'...|{'neg': 0.0, 'neu...|      USA|\n",
            "|276|null| Deserted #Rome: ...|   ColettaFrank|Sydney NSW Australia|[('Rome', 'GPE'),...|{'neg': 0.0, 'neu...|Australia|\n",
            "+---+----+--------------------+---------------+--------------------+--------------------+--------------------+---------+\n",
            "only showing top 20 rows\n",
            "\n"
          ],
          "name": "stdout"
        }
      ]
    },
    {
      "cell_type": "code",
      "metadata": {
        "colab": {
          "base_uri": "https://localhost:8080/"
        },
        "id": "ZbJ9I1DIC8py",
        "outputId": "999aeb64-c7e2-4161-e7f1-2378948c83ed"
      },
      "source": [
        "TWITTER_oz_data.explain()"
      ],
      "execution_count": 31,
      "outputs": [
        {
          "output_type": "stream",
          "text": [
            "== Physical Plan ==\n",
            "*(1) Project [_c0#42, geo#43, text#44, user#45, location#46, entities#47, sentiment#48, country#49]\n",
            "+- *(1) Filter (isnotnull(location#46) && StartsWith(location#46, S))\n",
            "   +- *(1) FileScan csv [_c0#42,geo#43,text#44,user#45,location#46,entities#47,sentiment#48,country#49] Batched: false, Format: CSV, Location: InMemoryFileIndex[file:/tmp/twitter_dataset.csv], PartitionFilters: [], PushedFilters: [IsNotNull(location), StringStartsWith(location,S)], ReadSchema: struct<_c0:int,geo:string,text:string,user:string,location:string,entities:string,sentiment:strin...\n"
          ],
          "name": "stdout"
        }
      ]
    },
    {
      "cell_type": "code",
      "metadata": {
        "colab": {
          "base_uri": "https://localhost:8080/"
        },
        "id": "Ko5J2ThvDCti",
        "outputId": "cfa5fd5e-502c-48a0-c6e2-7088070822a4"
      },
      "source": [
        "TWITTER_data.take(5)"
      ],
      "execution_count": 32,
      "outputs": [
        {
          "output_type": "execute_result",
          "data": {
            "text/plain": [
              "[Row(_c0=0, geo=None, text='What is God saying to us about #coronavirus ?', user='petodinice', location='Lagos', entities=\"[('about #', 'CARDINAL')]\", sentiment=\"{'neg': 0.0, 'neu': 0.769, 'pos': 0.231, 'compound': 0.2732}\", country='Nigeria'),\n",
              " Row(_c0=1, geo=None, text='\"BREAKING: \"\"this is disappointing', user=' but i took the test\"\". Arsenal\\'s Mikel Arteta tests positive for #coronavirus', location='  -… \"', entities='JerryfranksonJF', sentiment='Abuja, Nigeria', country='\"[(\"\"Arsenal\\'s Mikel Arteta\"\"'),\n",
              " Row(_c0=2, geo=None, text=' #Coronavirus testing must be made free to the public if we are going to understand the scope of this crisis. Anything le…', user='cek422', location='Pennsylvania, USA', entities='[]', sentiment=\"{'neg': 0.173, 'neu': 0.71, 'pos': 0.117, 'compound': -0.3767}\", country='USA'),\n",
              " Row(_c0=3, geo=None, text=' Get ready for mass event crowd cancellations across the World starting this weekend: cricket in #Australia in empty st…', user='InfectiousDz', location='NYC', entities=\"[('World', 'ORG'), ('this weekend', 'DATE'), '']\", sentiment=\"{'neg': 0.085, 'neu': 0.798, 'pos': 0.117, 'compound': 0.1779}\", country='USA'),\n",
              " Row(_c0=4, geo=None, text=' The #coronavirus pandemic is revealing just how closely we are all bound together...[A thread] ', user='vic_gibson', location=None, entities=\"['']\", sentiment=\"{'neg': 0.0, 'neu': 1.0, 'pos': 0.0, 'compound': 0.0}\", country=None)]"
            ]
          },
          "metadata": {
            "tags": []
          },
          "execution_count": 32
        }
      ]
    },
    {
      "cell_type": "code",
      "metadata": {
        "colab": {
          "base_uri": "https://localhost:8080/"
        },
        "id": "_XeGuCO1FopG",
        "outputId": "52a8eeec-a771-4e72-8dc5-85cd519e0d20"
      },
      "source": [
        "TWITTER_data.show(5)"
      ],
      "execution_count": 33,
      "outputs": [
        {
          "output_type": "stream",
          "text": [
            "+---+----+--------------------+--------------------+-----------------+--------------------+--------------------+--------------------+\n",
            "|_c0| geo|                text|                user|         location|            entities|           sentiment|             country|\n",
            "+---+----+--------------------+--------------------+-----------------+--------------------+--------------------+--------------------+\n",
            "|  0|null|What is God sayin...|          petodinice|            Lagos|[('about #', 'CAR...|{'neg': 0.0, 'neu...|             Nigeria|\n",
            "|  1|null|\"BREAKING: \"\"this...| but i took the t...|             -… \"|     JerryfranksonJF|      Abuja, Nigeria|\"[(\"\"Arsenal's Mi...|\n",
            "|  2|null| #Coronavirus tes...|              cek422|Pennsylvania, USA|                  []|{'neg': 0.173, 'n...|                 USA|\n",
            "|  3|null| Get ready for ma...|        InfectiousDz|              NYC|[('World', 'ORG')...|{'neg': 0.085, 'n...|                 USA|\n",
            "|  4|null| The #coronavirus...|          vic_gibson|             null|                ['']|{'neg': 0.0, 'neu...|                null|\n",
            "+---+----+--------------------+--------------------+-----------------+--------------------+--------------------+--------------------+\n",
            "only showing top 5 rows\n",
            "\n"
          ],
          "name": "stdout"
        }
      ]
    },
    {
      "cell_type": "code",
      "metadata": {
        "colab": {
          "base_uri": "https://localhost:8080/"
        },
        "id": "HEnbY8YeH9Hw",
        "outputId": "5a653452-372e-40f9-f7f0-5d61178abbaa"
      },
      "source": [
        "x= spark.sparkContext.parallelize([5,10,15])\r\n",
        "y = x.map(lambda x:(x,x*2))\r\n",
        "print(x.collect())\r\n",
        "print(y.collect())"
      ],
      "execution_count": 34,
      "outputs": [
        {
          "output_type": "stream",
          "text": [
            "[5, 10, 15]\n",
            "[(5, 10), (10, 20), (15, 30)]\n"
          ],
          "name": "stdout"
        }
      ]
    },
    {
      "cell_type": "code",
      "metadata": {
        "colab": {
          "base_uri": "https://localhost:8080/"
        },
        "id": "6zrMWKr7JNLb",
        "outputId": "0f84b02c-becb-4d9c-dd55-483ce59612f0"
      },
      "source": [
        "x= spark.sparkContext.parallelize([5,10,15])\r\n",
        "y = x.flatMap(lambda x:(x,x*2))\r\n",
        "print(x.collect())\r\n",
        "print(y.collect())"
      ],
      "execution_count": 35,
      "outputs": [
        {
          "output_type": "stream",
          "text": [
            "[5, 10, 15]\n",
            "[5, 10, 10, 20, 15, 30]\n"
          ],
          "name": "stdout"
        }
      ]
    },
    {
      "cell_type": "code",
      "metadata": {
        "colab": {
          "base_uri": "https://localhost:8080/"
        },
        "id": "CWcGJsDDKyJw",
        "outputId": "f496742e-4ded-41ca-e077-34edf87def7b"
      },
      "source": [
        "TWITTER_data.select(\"user\",\"sentiment\").show()"
      ],
      "execution_count": 36,
      "outputs": [
        {
          "output_type": "stream",
          "text": [
            "+--------------------+--------------------+\n",
            "|                user|           sentiment|\n",
            "+--------------------+--------------------+\n",
            "|          petodinice|{'neg': 0.0, 'neu...|\n",
            "| but i took the t...|      Abuja, Nigeria|\n",
            "|              cek422|{'neg': 0.173, 'n...|\n",
            "|        InfectiousDz|{'neg': 0.085, 'n...|\n",
            "|          vic_gibson|{'neg': 0.0, 'neu...|\n",
            "|      StewartNgilana|{'neg': 0.178, 'n...|\n",
            "|           BWheatnyc|{'neg': 0.098, 'n...|\n",
            "|             LorseaR|{'neg': 0.123, 'n...|\n",
            "|         straightj23|{'neg': 0.0, 'neu...|\n",
            "|       _______coolio|{'neg': 0.126, 'n...|\n",
            "|      champagneaylin|{'neg': 0.221, 'n...|\n",
            "|       YorkLawLondon|{'neg': 0.0, 'neu...|\n",
            "|      BeesonMargaret|{'neg': 0.227, 'n...|\n",
            "|      harrytiffanyiv|{'neg': 0.0, 'neu...|\n",
            "|         grammyheath|{'neg': 0.0, 'neu...|\n",
            "|      barbara_ellena|{'neg': 0.0, 'neu...|\n",
            "|               fatal|{'neg': 0.139, 'n...|\n",
            "|          pwjkmiller|{'neg': 0.218, 'n...|\n",
            "|        Mrrandy123RP|{'neg': 0.0, 'neu...|\n",
            "|           aliensky0|{'neg': 0.0, 'neu...|\n",
            "+--------------------+--------------------+\n",
            "only showing top 20 rows\n",
            "\n"
          ],
          "name": "stdout"
        }
      ]
    },
    {
      "cell_type": "code",
      "metadata": {
        "colab": {
          "base_uri": "https://localhost:8080/"
        },
        "id": "UzzghHotLU5A",
        "outputId": "fbebc66f-2281-44bc-c93a-cef2a4a1e39f"
      },
      "source": [
        "TWITTER_data.rdd.map(lambda new: new.text.split(\" \")).take(10)"
      ],
      "execution_count": 37,
      "outputs": [
        {
          "output_type": "execute_result",
          "data": {
            "text/plain": [
              "[['What', 'is', 'God', 'saying', 'to', 'us', 'about', '#coronavirus', '?'],\n",
              " ['\"BREAKING:', '\"\"this', 'is', 'disappointing'],\n",
              " ['',\n",
              "  '#Coronavirus',\n",
              "  'testing',\n",
              "  'must',\n",
              "  'be',\n",
              "  'made',\n",
              "  'free',\n",
              "  'to',\n",
              "  'the',\n",
              "  'public',\n",
              "  'if',\n",
              "  'we',\n",
              "  'are',\n",
              "  'going',\n",
              "  'to',\n",
              "  'understand',\n",
              "  'the',\n",
              "  'scope',\n",
              "  'of',\n",
              "  'this',\n",
              "  'crisis.',\n",
              "  'Anything',\n",
              "  'le…'],\n",
              " ['',\n",
              "  'Get',\n",
              "  'ready',\n",
              "  'for',\n",
              "  'mass',\n",
              "  'event',\n",
              "  'crowd',\n",
              "  'cancellations',\n",
              "  'across',\n",
              "  'the',\n",
              "  'World',\n",
              "  'starting',\n",
              "  'this',\n",
              "  'weekend:',\n",
              "  'cricket',\n",
              "  'in',\n",
              "  '#Australia',\n",
              "  'in',\n",
              "  'empty',\n",
              "  'st…'],\n",
              " ['',\n",
              "  'The',\n",
              "  '#coronavirus',\n",
              "  'pandemic',\n",
              "  'is',\n",
              "  'revealing',\n",
              "  'just',\n",
              "  'how',\n",
              "  'closely',\n",
              "  'we',\n",
              "  'are',\n",
              "  'all',\n",
              "  'bound',\n",
              "  'together...[A',\n",
              "  'thread]',\n",
              "  ''],\n",
              " ['',\n",
              "  'COVID-19',\n",
              "  'update',\n",
              "  'as',\n",
              "  'of',\n",
              "  'this',\n",
              "  'morning:1.',\n",
              "  'Death',\n",
              "  'toll',\n",
              "  'in',\n",
              "  'Italy',\n",
              "  'passes',\n",
              "  '1,0002.',\n",
              "  \"Arsenal's\",\n",
              "  'head',\n",
              "  'coach',\n",
              "  'Arteta',\n",
              "  'tests',\n",
              "  'positive3.',\n",
              "  'US…'],\n",
              " ['',\n",
              "  'It’s',\n",
              "  'painful',\n",
              "  'to',\n",
              "  'say,',\n",
              "  'but',\n",
              "  'as',\n",
              "  'an',\n",
              "  'ER',\n",
              "  'doc',\n",
              "  'who',\n",
              "  'talked',\n",
              "  'to\\xa0',\n",
              "  'about',\n",
              "  'healthcare,',\n",
              "  'I',\n",
              "  'believe',\n",
              "  \"he's\",\n",
              "  'uniquely',\n",
              "  'unqualified',\n",
              "  'to…'],\n",
              " ['',\n",
              "  '📽️Friends,',\n",
              "  'I',\n",
              "  'will',\n",
              "  'drop',\n",
              "  'another',\n",
              "  'video',\n",
              "  'on',\n",
              "  'Twitter',\n",
              "  'tonight',\n",
              "  'around',\n",
              "  '7:30pm',\n",
              "  'to',\n",
              "  'answer',\n",
              "  'your',\n",
              "  'questions',\n",
              "  'about',\n",
              "  '#coronavirus.Plea…'],\n",
              " ['',\n",
              "  'Questions',\n",
              "  'about',\n",
              "  'COVID-19?',\n",
              "  'See',\n",
              "  'this',\n",
              "  'resource',\n",
              "  'and',\n",
              "  'info',\n",
              "  'page',\n",
              "  'from',\n",
              "  'NAfME',\n",
              "  'for',\n",
              "  'music',\n",
              "  'educators,',\n",
              "  'including',\n",
              "  'music',\n",
              "  'instrument',\n",
              "  'hygiene:',\n",
              "  'ht…'],\n",
              " ['How',\n",
              "  'they’re',\n",
              "  'dealing',\n",
              "  'with',\n",
              "  '#coronavirus',\n",
              "  'in',\n",
              "  'a',\n",
              "  'public',\n",
              "  'facility',\n",
              "  'in',\n",
              "  'Portsmouth,',\n",
              "  'Uk.',\n",
              "  'Yes,',\n",
              "  'that’s',\n",
              "  'a',\n",
              "  'coronavirus',\n",
              "  'warning',\n",
              "  'sig…',\n",
              "  '']]"
            ]
          },
          "metadata": {
            "tags": []
          },
          "execution_count": 37
        }
      ]
    },
    {
      "cell_type": "code",
      "metadata": {
        "colab": {
          "base_uri": "https://localhost:8080/"
        },
        "id": "kz1cuznBL0zH",
        "outputId": "71bbc335-87da-46cb-9827-45bda11af777"
      },
      "source": [
        "TWITTER_data.rdd.flatMap(lambda new: new.text.split(\" \")).take(50)"
      ],
      "execution_count": 38,
      "outputs": [
        {
          "output_type": "execute_result",
          "data": {
            "text/plain": [
              "['What',\n",
              " 'is',\n",
              " 'God',\n",
              " 'saying',\n",
              " 'to',\n",
              " 'us',\n",
              " 'about',\n",
              " '#coronavirus',\n",
              " '?',\n",
              " '\"BREAKING:',\n",
              " '\"\"this',\n",
              " 'is',\n",
              " 'disappointing',\n",
              " '',\n",
              " '#Coronavirus',\n",
              " 'testing',\n",
              " 'must',\n",
              " 'be',\n",
              " 'made',\n",
              " 'free',\n",
              " 'to',\n",
              " 'the',\n",
              " 'public',\n",
              " 'if',\n",
              " 'we',\n",
              " 'are',\n",
              " 'going',\n",
              " 'to',\n",
              " 'understand',\n",
              " 'the',\n",
              " 'scope',\n",
              " 'of',\n",
              " 'this',\n",
              " 'crisis.',\n",
              " 'Anything',\n",
              " 'le…',\n",
              " '',\n",
              " 'Get',\n",
              " 'ready',\n",
              " 'for',\n",
              " 'mass',\n",
              " 'event',\n",
              " 'crowd',\n",
              " 'cancellations',\n",
              " 'across',\n",
              " 'the',\n",
              " 'World',\n",
              " 'starting',\n",
              " 'this',\n",
              " 'weekend:']"
            ]
          },
          "metadata": {
            "tags": []
          },
          "execution_count": 38
        }
      ]
    },
    {
      "cell_type": "code",
      "metadata": {
        "colab": {
          "base_uri": "https://localhost:8080/"
        },
        "id": "Y6CiFl_PLRDO",
        "outputId": "024a6b9e-022d-4766-e0b4-5f3df8b8bad9"
      },
      "source": [
        "CV_data.show(10)"
      ],
      "execution_count": 39,
      "outputs": [
        {
          "output_type": "stream",
          "text": [
            "+---+----------------+---------+--------+---------+-------------------+---------+-----+---------+----------------+----+\n",
            "|_c0|           State|  Country|     Lat|     Long|               Date|Confirmed|Death|Recovered|   state_cleaned|City|\n",
            "+---+----------------+---------+--------+---------+-------------------+---------+-----+---------+----------------+----+\n",
            "|  0|            null| Thailand|    15.0|    101.0|2020-01-22 00:00:00|      2.0|  0.0|      0.0|         Bangkok|null|\n",
            "|  1|            null|    Japan|    36.0|    138.0|2020-01-22 00:00:00|      2.0|  0.0|      0.0|         Hiraide|null|\n",
            "|  2|            null|Singapore|  1.2833| 103.8333|2020-01-22 00:00:00|      0.0|  0.0|      0.0|       Singapore|null|\n",
            "|  3|            null|    Nepal| 28.1667|    84.25|2020-01-22 00:00:00|      0.0|  0.0|      0.0|       Kathmandu|null|\n",
            "|  4|            null| Malaysia|     2.5|    112.5|2020-01-22 00:00:00|      0.0|  0.0|      0.0|         Sarawak|null|\n",
            "|  5|British Columbia|   Canada| 49.2827|-123.1207|2020-01-22 00:00:00|      0.0|  0.0|      0.0|British Columbia|null|\n",
            "|  6| New South Wales|Australia|-33.8688| 151.2093|2020-01-22 00:00:00|      0.0|  0.0|      0.0| New South Wales|null|\n",
            "|  7|        Victoria|Australia|-37.8136| 144.9631|2020-01-22 00:00:00|      0.0|  0.0|      0.0|        Victoria|null|\n",
            "|  8|      Queensland|Australia|-28.0167|    153.4|2020-01-22 00:00:00|      0.0|  0.0|      0.0|      Queensland|null|\n",
            "|  9|            null| Cambodia|   11.55| 104.9167|2020-01-22 00:00:00|      0.0|  0.0|      0.0|      Phnom Penh|null|\n",
            "+---+----------------+---------+--------+---------+-------------------+---------+-----+---------+----------------+----+\n",
            "only showing top 10 rows\n",
            "\n"
          ],
          "name": "stdout"
        }
      ]
    },
    {
      "cell_type": "code",
      "metadata": {
        "colab": {
          "base_uri": "https://localhost:8080/"
        },
        "id": "qevf5I8SQxA0",
        "outputId": "a21b429b-dcd9-48a1-ddb0-6201a3b35269"
      },
      "source": [
        "CV_data.filter(\"Country='Australia'\").show(100)"
      ],
      "execution_count": 40,
      "outputs": [
        {
          "output_type": "stream",
          "text": [
            "+----+--------------------+---------+--------+--------+-------------------+---------+-----+---------+--------------------+----+\n",
            "| _c0|               State|  Country|     Lat|    Long|               Date|Confirmed|Death|Recovered|       state_cleaned|City|\n",
            "+----+--------------------+---------+--------+--------+-------------------+---------+-----+---------+--------------------+----+\n",
            "|   6|     New South Wales|Australia|-33.8688|151.2093|2020-01-22 00:00:00|      0.0|  0.0|      0.0|     New South Wales|null|\n",
            "|   7|            Victoria|Australia|-37.8136|144.9631|2020-01-22 00:00:00|      0.0|  0.0|      0.0|            Victoria|null|\n",
            "|   8|          Queensland|Australia|-28.0167|   153.4|2020-01-22 00:00:00|      0.0|  0.0|      0.0|          Queensland|null|\n",
            "|  19|     South Australia|Australia|-34.9285|138.6007|2020-01-22 00:00:00|      0.0|  0.0|      0.0|     South Australia|null|\n",
            "|  22|From Diamond Prin...|Australia| 35.4437| 139.638|2020-01-22 00:00:00|      0.0|  0.0|      0.0|From Diamond Prin...|null|\n",
            "|  49|   Western Australia|Australia|-31.9505|115.8605|2020-01-22 00:00:00|      0.0|  0.0|      0.0|   Western Australia|null|\n",
            "|  61|            Tasmania|Australia|-41.4545|145.9707|2020-01-22 00:00:00|      0.0|  0.0|      0.0|            Tasmania|null|\n",
            "|  71|  Northern Territory|Australia|-12.4634|130.8456|2020-01-22 00:00:00|      0.0|  0.0|      0.0|  Northern Territory|null|\n",
            "| 402|Australian Capita...|Australia|-35.4735|149.0124|2020-01-22 00:00:00|      0.0|  0.0|      0.0|Australian Capita...|null|\n",
            "| 481|     New South Wales|Australia|-33.8688|151.2093|2020-01-23 00:00:00|      0.0|  0.0|      0.0|     New South Wales|null|\n",
            "| 482|            Victoria|Australia|-37.8136|144.9631|2020-01-23 00:00:00|      0.0|  0.0|      0.0|            Victoria|null|\n",
            "| 483|          Queensland|Australia|-28.0167|   153.4|2020-01-23 00:00:00|      0.0|  0.0|      0.0|          Queensland|null|\n",
            "| 494|     South Australia|Australia|-34.9285|138.6007|2020-01-23 00:00:00|      0.0|  0.0|      0.0|     South Australia|null|\n",
            "| 497|From Diamond Prin...|Australia| 35.4437| 139.638|2020-01-23 00:00:00|      0.0|  0.0|      0.0|From Diamond Prin...|null|\n",
            "| 524|   Western Australia|Australia|-31.9505|115.8605|2020-01-23 00:00:00|      0.0|  0.0|      0.0|   Western Australia|null|\n",
            "| 536|            Tasmania|Australia|-41.4545|145.9707|2020-01-23 00:00:00|      0.0|  0.0|      0.0|            Tasmania|null|\n",
            "| 546|  Northern Territory|Australia|-12.4634|130.8456|2020-01-23 00:00:00|      0.0|  0.0|      0.0|  Northern Territory|null|\n",
            "| 877|Australian Capita...|Australia|-35.4735|149.0124|2020-01-23 00:00:00|      0.0|  0.0|      0.0|Australian Capita...|null|\n",
            "| 956|     New South Wales|Australia|-33.8688|151.2093|2020-01-24 00:00:00|      0.0|  0.0|      0.0|     New South Wales|null|\n",
            "| 957|            Victoria|Australia|-37.8136|144.9631|2020-01-24 00:00:00|      0.0|  0.0|      0.0|            Victoria|null|\n",
            "| 958|          Queensland|Australia|-28.0167|   153.4|2020-01-24 00:00:00|      0.0|  0.0|      0.0|          Queensland|null|\n",
            "| 969|     South Australia|Australia|-34.9285|138.6007|2020-01-24 00:00:00|      0.0|  0.0|      0.0|     South Australia|null|\n",
            "| 972|From Diamond Prin...|Australia| 35.4437| 139.638|2020-01-24 00:00:00|      0.0|  0.0|      0.0|From Diamond Prin...|null|\n",
            "| 999|   Western Australia|Australia|-31.9505|115.8605|2020-01-24 00:00:00|      0.0|  0.0|      0.0|   Western Australia|null|\n",
            "|1011|            Tasmania|Australia|-41.4545|145.9707|2020-01-24 00:00:00|      0.0|  0.0|      0.0|            Tasmania|null|\n",
            "|1021|  Northern Territory|Australia|-12.4634|130.8456|2020-01-24 00:00:00|      0.0|  0.0|      0.0|  Northern Territory|null|\n",
            "|1352|Australian Capita...|Australia|-35.4735|149.0124|2020-01-24 00:00:00|      0.0|  0.0|      0.0|Australian Capita...|null|\n",
            "|1431|     New South Wales|Australia|-33.8688|151.2093|2020-01-25 00:00:00|      0.0|  0.0|      0.0|     New South Wales|null|\n",
            "|1432|            Victoria|Australia|-37.8136|144.9631|2020-01-25 00:00:00|      0.0|  0.0|      0.0|            Victoria|null|\n",
            "|1433|          Queensland|Australia|-28.0167|   153.4|2020-01-25 00:00:00|      0.0|  0.0|      0.0|          Queensland|null|\n",
            "|1444|     South Australia|Australia|-34.9285|138.6007|2020-01-25 00:00:00|      0.0|  0.0|      0.0|     South Australia|null|\n",
            "|1447|From Diamond Prin...|Australia| 35.4437| 139.638|2020-01-25 00:00:00|      0.0|  0.0|      0.0|From Diamond Prin...|null|\n",
            "|1474|   Western Australia|Australia|-31.9505|115.8605|2020-01-25 00:00:00|      0.0|  0.0|      0.0|   Western Australia|null|\n",
            "|1486|            Tasmania|Australia|-41.4545|145.9707|2020-01-25 00:00:00|      0.0|  0.0|      0.0|            Tasmania|null|\n",
            "|1496|  Northern Territory|Australia|-12.4634|130.8456|2020-01-25 00:00:00|      0.0|  0.0|      0.0|  Northern Territory|null|\n",
            "|1827|Australian Capita...|Australia|-35.4735|149.0124|2020-01-25 00:00:00|      0.0|  0.0|      0.0|Australian Capita...|null|\n",
            "|1906|     New South Wales|Australia|-33.8688|151.2093|2020-01-26 00:00:00|      3.0|  0.0|      0.0|     New South Wales|null|\n",
            "|1907|            Victoria|Australia|-37.8136|144.9631|2020-01-26 00:00:00|      1.0|  0.0|      0.0|            Victoria|null|\n",
            "|1908|          Queensland|Australia|-28.0167|   153.4|2020-01-26 00:00:00|      0.0|  0.0|      0.0|          Queensland|null|\n",
            "|1919|     South Australia|Australia|-34.9285|138.6007|2020-01-26 00:00:00|      0.0|  0.0|      0.0|     South Australia|null|\n",
            "|1922|From Diamond Prin...|Australia| 35.4437| 139.638|2020-01-26 00:00:00|      0.0|  0.0|      0.0|From Diamond Prin...|null|\n",
            "|1949|   Western Australia|Australia|-31.9505|115.8605|2020-01-26 00:00:00|      0.0|  0.0|      0.0|   Western Australia|null|\n",
            "|1961|            Tasmania|Australia|-41.4545|145.9707|2020-01-26 00:00:00|      0.0|  0.0|      0.0|            Tasmania|null|\n",
            "|1971|  Northern Territory|Australia|-12.4634|130.8456|2020-01-26 00:00:00|      0.0|  0.0|      0.0|  Northern Territory|null|\n",
            "|2302|Australian Capita...|Australia|-35.4735|149.0124|2020-01-26 00:00:00|      0.0|  0.0|      0.0|Australian Capita...|null|\n",
            "|2381|     New South Wales|Australia|-33.8688|151.2093|2020-01-27 00:00:00|      4.0|  0.0|      0.0|     New South Wales|null|\n",
            "|2382|            Victoria|Australia|-37.8136|144.9631|2020-01-27 00:00:00|      1.0|  0.0|      0.0|            Victoria|null|\n",
            "|2383|          Queensland|Australia|-28.0167|   153.4|2020-01-27 00:00:00|      0.0|  0.0|      0.0|          Queensland|null|\n",
            "|2394|     South Australia|Australia|-34.9285|138.6007|2020-01-27 00:00:00|      0.0|  0.0|      0.0|     South Australia|null|\n",
            "|2397|From Diamond Prin...|Australia| 35.4437| 139.638|2020-01-27 00:00:00|      0.0|  0.0|      0.0|From Diamond Prin...|null|\n",
            "|2424|   Western Australia|Australia|-31.9505|115.8605|2020-01-27 00:00:00|      0.0|  0.0|      0.0|   Western Australia|null|\n",
            "|2436|            Tasmania|Australia|-41.4545|145.9707|2020-01-27 00:00:00|      0.0|  0.0|      0.0|            Tasmania|null|\n",
            "|2446|  Northern Territory|Australia|-12.4634|130.8456|2020-01-27 00:00:00|      0.0|  0.0|      0.0|  Northern Territory|null|\n",
            "|2777|Australian Capita...|Australia|-35.4735|149.0124|2020-01-27 00:00:00|      0.0|  0.0|      0.0|Australian Capita...|null|\n",
            "|2856|     New South Wales|Australia|-33.8688|151.2093|2020-01-28 00:00:00|      4.0|  0.0|      0.0|     New South Wales|null|\n",
            "|2857|            Victoria|Australia|-37.8136|144.9631|2020-01-28 00:00:00|      1.0|  0.0|      0.0|            Victoria|null|\n",
            "|2858|          Queensland|Australia|-28.0167|   153.4|2020-01-28 00:00:00|      0.0|  0.0|      0.0|          Queensland|null|\n",
            "|2869|     South Australia|Australia|-34.9285|138.6007|2020-01-28 00:00:00|      0.0|  0.0|      0.0|     South Australia|null|\n",
            "|2872|From Diamond Prin...|Australia| 35.4437| 139.638|2020-01-28 00:00:00|      0.0|  0.0|      0.0|From Diamond Prin...|null|\n",
            "|2899|   Western Australia|Australia|-31.9505|115.8605|2020-01-28 00:00:00|      0.0|  0.0|      0.0|   Western Australia|null|\n",
            "|2911|            Tasmania|Australia|-41.4545|145.9707|2020-01-28 00:00:00|      0.0|  0.0|      0.0|            Tasmania|null|\n",
            "|2921|  Northern Territory|Australia|-12.4634|130.8456|2020-01-28 00:00:00|      0.0|  0.0|      0.0|  Northern Territory|null|\n",
            "|3252|Australian Capita...|Australia|-35.4735|149.0124|2020-01-28 00:00:00|      0.0|  0.0|      0.0|Australian Capita...|null|\n",
            "|3331|     New South Wales|Australia|-33.8688|151.2093|2020-01-29 00:00:00|      4.0|  0.0|      0.0|     New South Wales|null|\n",
            "|3332|            Victoria|Australia|-37.8136|144.9631|2020-01-29 00:00:00|      1.0|  0.0|      0.0|            Victoria|null|\n",
            "|3333|          Queensland|Australia|-28.0167|   153.4|2020-01-29 00:00:00|      1.0|  0.0|      0.0|          Queensland|null|\n",
            "|3344|     South Australia|Australia|-34.9285|138.6007|2020-01-29 00:00:00|      0.0|  0.0|      0.0|     South Australia|null|\n",
            "|3347|From Diamond Prin...|Australia| 35.4437| 139.638|2020-01-29 00:00:00|      0.0|  0.0|      0.0|From Diamond Prin...|null|\n",
            "|3374|   Western Australia|Australia|-31.9505|115.8605|2020-01-29 00:00:00|      0.0|  0.0|      0.0|   Western Australia|null|\n",
            "|3386|            Tasmania|Australia|-41.4545|145.9707|2020-01-29 00:00:00|      0.0|  0.0|      0.0|            Tasmania|null|\n",
            "|3396|  Northern Territory|Australia|-12.4634|130.8456|2020-01-29 00:00:00|      0.0|  0.0|      0.0|  Northern Territory|null|\n",
            "|3727|Australian Capita...|Australia|-35.4735|149.0124|2020-01-29 00:00:00|      0.0|  0.0|      0.0|Australian Capita...|null|\n",
            "|3806|     New South Wales|Australia|-33.8688|151.2093|2020-01-30 00:00:00|      4.0|  0.0|      2.0|     New South Wales|null|\n",
            "|3807|            Victoria|Australia|-37.8136|144.9631|2020-01-30 00:00:00|      2.0|  0.0|      0.0|            Victoria|null|\n",
            "|3808|          Queensland|Australia|-28.0167|   153.4|2020-01-30 00:00:00|      3.0|  0.0|      0.0|          Queensland|null|\n",
            "|3819|     South Australia|Australia|-34.9285|138.6007|2020-01-30 00:00:00|      0.0|  0.0|      0.0|     South Australia|null|\n",
            "|3822|From Diamond Prin...|Australia| 35.4437| 139.638|2020-01-30 00:00:00|      0.0|  0.0|      0.0|From Diamond Prin...|null|\n",
            "|3849|   Western Australia|Australia|-31.9505|115.8605|2020-01-30 00:00:00|      0.0|  0.0|      0.0|   Western Australia|null|\n",
            "|3861|            Tasmania|Australia|-41.4545|145.9707|2020-01-30 00:00:00|      0.0|  0.0|      0.0|            Tasmania|null|\n",
            "|3871|  Northern Territory|Australia|-12.4634|130.8456|2020-01-30 00:00:00|      0.0|  0.0|      0.0|  Northern Territory|null|\n",
            "|4202|Australian Capita...|Australia|-35.4735|149.0124|2020-01-30 00:00:00|      0.0|  0.0|      0.0|Australian Capita...|null|\n",
            "|4281|     New South Wales|Australia|-33.8688|151.2093|2020-01-31 00:00:00|      4.0|  0.0|      2.0|     New South Wales|null|\n",
            "|4282|            Victoria|Australia|-37.8136|144.9631|2020-01-31 00:00:00|      3.0|  0.0|      0.0|            Victoria|null|\n",
            "|4283|          Queensland|Australia|-28.0167|   153.4|2020-01-31 00:00:00|      2.0|  0.0|      0.0|          Queensland|null|\n",
            "|4294|     South Australia|Australia|-34.9285|138.6007|2020-01-31 00:00:00|      0.0|  0.0|      0.0|     South Australia|null|\n",
            "|4297|From Diamond Prin...|Australia| 35.4437| 139.638|2020-01-31 00:00:00|      0.0|  0.0|      0.0|From Diamond Prin...|null|\n",
            "|4324|   Western Australia|Australia|-31.9505|115.8605|2020-01-31 00:00:00|      0.0|  0.0|      0.0|   Western Australia|null|\n",
            "|4336|            Tasmania|Australia|-41.4545|145.9707|2020-01-31 00:00:00|      0.0|  0.0|      0.0|            Tasmania|null|\n",
            "|4346|  Northern Territory|Australia|-12.4634|130.8456|2020-01-31 00:00:00|      0.0|  0.0|      0.0|  Northern Territory|null|\n",
            "|4677|Australian Capita...|Australia|-35.4735|149.0124|2020-01-31 00:00:00|      0.0|  0.0|      0.0|Australian Capita...|null|\n",
            "|4756|     New South Wales|Australia|-33.8688|151.2093|2020-02-01 00:00:00|      4.0|  0.0|      2.0|     New South Wales|null|\n",
            "|4757|            Victoria|Australia|-37.8136|144.9631|2020-02-01 00:00:00|      4.0|  0.0|      0.0|            Victoria|null|\n",
            "|4758|          Queensland|Australia|-28.0167|   153.4|2020-02-01 00:00:00|      3.0|  0.0|      0.0|          Queensland|null|\n",
            "|4769|     South Australia|Australia|-34.9285|138.6007|2020-02-01 00:00:00|      1.0|  0.0|      0.0|     South Australia|null|\n",
            "|4772|From Diamond Prin...|Australia| 35.4437| 139.638|2020-02-01 00:00:00|      0.0|  0.0|      0.0|From Diamond Prin...|null|\n",
            "|4799|   Western Australia|Australia|-31.9505|115.8605|2020-02-01 00:00:00|      0.0|  0.0|      0.0|   Western Australia|null|\n",
            "|4811|            Tasmania|Australia|-41.4545|145.9707|2020-02-01 00:00:00|      0.0|  0.0|      0.0|            Tasmania|null|\n",
            "|4821|  Northern Territory|Australia|-12.4634|130.8456|2020-02-01 00:00:00|      0.0|  0.0|      0.0|  Northern Territory|null|\n",
            "|5152|Australian Capita...|Australia|-35.4735|149.0124|2020-02-01 00:00:00|      0.0|  0.0|      0.0|Australian Capita...|null|\n",
            "|5231|     New South Wales|Australia|-33.8688|151.2093|2020-02-02 00:00:00|      4.0|  0.0|      2.0|     New South Wales|null|\n",
            "+----+--------------------+---------+--------+--------+-------------------+---------+-----+---------+--------------------+----+\n",
            "only showing top 100 rows\n",
            "\n"
          ],
          "name": "stdout"
        }
      ]
    },
    {
      "cell_type": "code",
      "metadata": {
        "colab": {
          "base_uri": "https://localhost:8080/"
        },
        "id": "Da_PmGttQ9Dq",
        "outputId": "d88a53fb-286d-4c1d-ae3d-347e0367c3a2"
      },
      "source": [
        "CV_data.filter(\"Country='Australia'\").sort(col('Date'),ascending=False).show()"
      ],
      "execution_count": 41,
      "outputs": [
        {
          "output_type": "stream",
          "text": [
            "+-----+--------------------+---------+--------+--------+-------------------+---------+-----+---------+--------------------+----+\n",
            "|  _c0|               State|  Country|     Lat|    Long|               Date|Confirmed|Death|Recovered|       state_cleaned|City|\n",
            "+-----+--------------------+---------+--------+--------+-------------------+---------+-----+---------+--------------------+----+\n",
            "|26607|            Victoria|Australia|-37.8136|144.9631|2020-03-18 00:00:00|    121.0|  0.0|      8.0|            Victoria|null|\n",
            "|26649|   Western Australia|Australia|-31.9505|115.8605|2020-03-18 00:00:00|     35.0|  1.0|      0.0|   Western Australia|null|\n",
            "|26608|          Queensland|Australia|-28.0167|   153.4|2020-03-18 00:00:00|     94.0|  0.0|      8.0|          Queensland|null|\n",
            "|26661|            Tasmania|Australia|-41.4545|145.9707|2020-03-18 00:00:00|     10.0|  0.0|      0.0|            Tasmania|null|\n",
            "|26671|  Northern Territory|Australia|-12.4634|130.8456|2020-03-18 00:00:00|      1.0|  0.0|      0.0|  Northern Territory|null|\n",
            "|26619|     South Australia|Australia|-34.9285|138.6007|2020-03-18 00:00:00|     37.0|  0.0|      3.0|     South Australia|null|\n",
            "|27002|Australian Capita...|Australia|-35.4735|149.0124|2020-03-18 00:00:00|      3.0|  0.0|      0.0|Australian Capita...|null|\n",
            "|26622|From Diamond Prin...|Australia| 35.4437| 139.638|2020-03-18 00:00:00|      0.0|  0.0|      0.0|From Diamond Prin...|null|\n",
            "|26606|     New South Wales|Australia|-33.8688|151.2093|2020-03-18 00:00:00|    267.0|  5.0|      4.0|     New South Wales|null|\n",
            "|26132|            Victoria|Australia|-37.8136|144.9631|2020-03-17 00:00:00|     94.0|  0.0|      8.0|            Victoria|null|\n",
            "|26131|     New South Wales|Australia|-33.8688|151.2093|2020-03-17 00:00:00|    210.0|  4.0|      4.0|     New South Wales|null|\n",
            "|26133|          Queensland|Australia|-28.0167|   153.4|2020-03-17 00:00:00|     78.0|  0.0|      8.0|          Queensland|null|\n",
            "|26144|     South Australia|Australia|-34.9285|138.6007|2020-03-17 00:00:00|     29.0|  0.0|      3.0|     South Australia|null|\n",
            "|26186|            Tasmania|Australia|-41.4545|145.9707|2020-03-17 00:00:00|      7.0|  0.0|      0.0|            Tasmania|null|\n",
            "|26174|   Western Australia|Australia|-31.9505|115.8605|2020-03-17 00:00:00|     31.0|  1.0|      0.0|   Western Australia|null|\n",
            "|26527|Australian Capita...|Australia|-35.4735|149.0124|2020-03-17 00:00:00|      2.0|  0.0|      0.0|Australian Capita...|null|\n",
            "|26147|From Diamond Prin...|Australia| 35.4437| 139.638|2020-03-17 00:00:00|      0.0|  0.0|      0.0|From Diamond Prin...|null|\n",
            "|26196|  Northern Territory|Australia|-12.4634|130.8456|2020-03-17 00:00:00|      1.0|  0.0|      0.0|  Northern Territory|null|\n",
            "|25656|     New South Wales|Australia|-33.8688|151.2093|2020-03-16 00:00:00|    171.0|  2.0|      4.0|     New South Wales|null|\n",
            "|25657|            Victoria|Australia|-37.8136|144.9631|2020-03-16 00:00:00|     71.0|  0.0|      8.0|            Victoria|null|\n",
            "+-----+--------------------+---------+--------+--------+-------------------+---------+-----+---------+--------------------+----+\n",
            "only showing top 20 rows\n",
            "\n"
          ],
          "name": "stdout"
        }
      ]
    },
    {
      "cell_type": "code",
      "metadata": {
        "colab": {
          "base_uri": "https://localhost:8080/"
        },
        "id": "kyRBGqu3RN0b",
        "outputId": "b75d272f-e907-470a-fca0-56f30b63702f"
      },
      "source": [
        "CV_data.filter(\"Country='Australia'\").orderBy(col('Date'),ascending=False).show()"
      ],
      "execution_count": 42,
      "outputs": [
        {
          "output_type": "stream",
          "text": [
            "+-----+--------------------+---------+--------+--------+-------------------+---------+-----+---------+--------------------+----+\n",
            "|  _c0|               State|  Country|     Lat|    Long|               Date|Confirmed|Death|Recovered|       state_cleaned|City|\n",
            "+-----+--------------------+---------+--------+--------+-------------------+---------+-----+---------+--------------------+----+\n",
            "|26607|            Victoria|Australia|-37.8136|144.9631|2020-03-18 00:00:00|    121.0|  0.0|      8.0|            Victoria|null|\n",
            "|26649|   Western Australia|Australia|-31.9505|115.8605|2020-03-18 00:00:00|     35.0|  1.0|      0.0|   Western Australia|null|\n",
            "|26608|          Queensland|Australia|-28.0167|   153.4|2020-03-18 00:00:00|     94.0|  0.0|      8.0|          Queensland|null|\n",
            "|26661|            Tasmania|Australia|-41.4545|145.9707|2020-03-18 00:00:00|     10.0|  0.0|      0.0|            Tasmania|null|\n",
            "|26671|  Northern Territory|Australia|-12.4634|130.8456|2020-03-18 00:00:00|      1.0|  0.0|      0.0|  Northern Territory|null|\n",
            "|26619|     South Australia|Australia|-34.9285|138.6007|2020-03-18 00:00:00|     37.0|  0.0|      3.0|     South Australia|null|\n",
            "|27002|Australian Capita...|Australia|-35.4735|149.0124|2020-03-18 00:00:00|      3.0|  0.0|      0.0|Australian Capita...|null|\n",
            "|26622|From Diamond Prin...|Australia| 35.4437| 139.638|2020-03-18 00:00:00|      0.0|  0.0|      0.0|From Diamond Prin...|null|\n",
            "|26606|     New South Wales|Australia|-33.8688|151.2093|2020-03-18 00:00:00|    267.0|  5.0|      4.0|     New South Wales|null|\n",
            "|26132|            Victoria|Australia|-37.8136|144.9631|2020-03-17 00:00:00|     94.0|  0.0|      8.0|            Victoria|null|\n",
            "|26131|     New South Wales|Australia|-33.8688|151.2093|2020-03-17 00:00:00|    210.0|  4.0|      4.0|     New South Wales|null|\n",
            "|26133|          Queensland|Australia|-28.0167|   153.4|2020-03-17 00:00:00|     78.0|  0.0|      8.0|          Queensland|null|\n",
            "|26144|     South Australia|Australia|-34.9285|138.6007|2020-03-17 00:00:00|     29.0|  0.0|      3.0|     South Australia|null|\n",
            "|26186|            Tasmania|Australia|-41.4545|145.9707|2020-03-17 00:00:00|      7.0|  0.0|      0.0|            Tasmania|null|\n",
            "|26174|   Western Australia|Australia|-31.9505|115.8605|2020-03-17 00:00:00|     31.0|  1.0|      0.0|   Western Australia|null|\n",
            "|26527|Australian Capita...|Australia|-35.4735|149.0124|2020-03-17 00:00:00|      2.0|  0.0|      0.0|Australian Capita...|null|\n",
            "|26147|From Diamond Prin...|Australia| 35.4437| 139.638|2020-03-17 00:00:00|      0.0|  0.0|      0.0|From Diamond Prin...|null|\n",
            "|26196|  Northern Territory|Australia|-12.4634|130.8456|2020-03-17 00:00:00|      1.0|  0.0|      0.0|  Northern Territory|null|\n",
            "|25656|     New South Wales|Australia|-33.8688|151.2093|2020-03-16 00:00:00|    171.0|  2.0|      4.0|     New South Wales|null|\n",
            "|25657|            Victoria|Australia|-37.8136|144.9631|2020-03-16 00:00:00|     71.0|  0.0|      8.0|            Victoria|null|\n",
            "+-----+--------------------+---------+--------+--------+-------------------+---------+-----+---------+--------------------+----+\n",
            "only showing top 20 rows\n",
            "\n"
          ],
          "name": "stdout"
        }
      ]
    },
    {
      "cell_type": "code",
      "metadata": {
        "colab": {
          "base_uri": "https://localhost:8080/"
        },
        "id": "QWJBft9hSH96",
        "outputId": "fa0c9204-c74b-49d5-c6d8-adab7ae93f69"
      },
      "source": [
        "CV_data.filter(\"Country='Australia'\").sortWithinPartitions(col('Date'),col('Confirmed'),ascending=False).show()"
      ],
      "execution_count": 43,
      "outputs": [
        {
          "output_type": "stream",
          "text": [
            "+-----+--------------------+---------+--------+--------+-------------------+---------+-----+---------+--------------------+----+\n",
            "|  _c0|               State|  Country|     Lat|    Long|               Date|Confirmed|Death|Recovered|       state_cleaned|City|\n",
            "+-----+--------------------+---------+--------+--------+-------------------+---------+-----+---------+--------------------+----+\n",
            "|26606|     New South Wales|Australia|-33.8688|151.2093|2020-03-18 00:00:00|    267.0|  5.0|      4.0|     New South Wales|null|\n",
            "|26607|            Victoria|Australia|-37.8136|144.9631|2020-03-18 00:00:00|    121.0|  0.0|      8.0|            Victoria|null|\n",
            "|26608|          Queensland|Australia|-28.0167|   153.4|2020-03-18 00:00:00|     94.0|  0.0|      8.0|          Queensland|null|\n",
            "|26619|     South Australia|Australia|-34.9285|138.6007|2020-03-18 00:00:00|     37.0|  0.0|      3.0|     South Australia|null|\n",
            "|26649|   Western Australia|Australia|-31.9505|115.8605|2020-03-18 00:00:00|     35.0|  1.0|      0.0|   Western Australia|null|\n",
            "|26661|            Tasmania|Australia|-41.4545|145.9707|2020-03-18 00:00:00|     10.0|  0.0|      0.0|            Tasmania|null|\n",
            "|27002|Australian Capita...|Australia|-35.4735|149.0124|2020-03-18 00:00:00|      3.0|  0.0|      0.0|Australian Capita...|null|\n",
            "|26671|  Northern Territory|Australia|-12.4634|130.8456|2020-03-18 00:00:00|      1.0|  0.0|      0.0|  Northern Territory|null|\n",
            "|26622|From Diamond Prin...|Australia| 35.4437| 139.638|2020-03-18 00:00:00|      0.0|  0.0|      0.0|From Diamond Prin...|null|\n",
            "|26131|     New South Wales|Australia|-33.8688|151.2093|2020-03-17 00:00:00|    210.0|  4.0|      4.0|     New South Wales|null|\n",
            "|26132|            Victoria|Australia|-37.8136|144.9631|2020-03-17 00:00:00|     94.0|  0.0|      8.0|            Victoria|null|\n",
            "|26133|          Queensland|Australia|-28.0167|   153.4|2020-03-17 00:00:00|     78.0|  0.0|      8.0|          Queensland|null|\n",
            "|26174|   Western Australia|Australia|-31.9505|115.8605|2020-03-17 00:00:00|     31.0|  1.0|      0.0|   Western Australia|null|\n",
            "|26144|     South Australia|Australia|-34.9285|138.6007|2020-03-17 00:00:00|     29.0|  0.0|      3.0|     South Australia|null|\n",
            "|26186|            Tasmania|Australia|-41.4545|145.9707|2020-03-17 00:00:00|      7.0|  0.0|      0.0|            Tasmania|null|\n",
            "|26527|Australian Capita...|Australia|-35.4735|149.0124|2020-03-17 00:00:00|      2.0|  0.0|      0.0|Australian Capita...|null|\n",
            "|26196|  Northern Territory|Australia|-12.4634|130.8456|2020-03-17 00:00:00|      1.0|  0.0|      0.0|  Northern Territory|null|\n",
            "|26147|From Diamond Prin...|Australia| 35.4437| 139.638|2020-03-17 00:00:00|      0.0|  0.0|      0.0|From Diamond Prin...|null|\n",
            "|25656|     New South Wales|Australia|-33.8688|151.2093|2020-03-16 00:00:00|    171.0|  2.0|      4.0|     New South Wales|null|\n",
            "|25657|            Victoria|Australia|-37.8136|144.9631|2020-03-16 00:00:00|     71.0|  0.0|      8.0|            Victoria|null|\n",
            "+-----+--------------------+---------+--------+--------+-------------------+---------+-----+---------+--------------------+----+\n",
            "only showing top 20 rows\n",
            "\n"
          ],
          "name": "stdout"
        }
      ]
    },
    {
      "cell_type": "code",
      "metadata": {
        "colab": {
          "base_uri": "https://localhost:8080/"
        },
        "id": "p5ITEjnyTFPm",
        "outputId": "77cb8110-edc9-487b-bb8d-16c4805a3d43"
      },
      "source": [
        "CV_data.describe().show()"
      ],
      "execution_count": 44,
      "outputs": [
        {
          "output_type": "stream",
          "text": [
            "+-------+-----------------+---------+-----------+------------------+-------------------+------------------+------------------+------------------+-------------+-----------+\n",
            "|summary|              _c0|    State|    Country|               Lat|               Long|         Confirmed|             Death|         Recovered|state_cleaned|       City|\n",
            "+-------+-----------------+---------+-----------+------------------+-------------------+------------------+------------------+------------------+-------------+-----------+\n",
            "|  count|            27075|    18297|      27075|             27075|              27075|             26884|             26884|             26884|        27075|      14193|\n",
            "|   mean|          13537.0|     null|       null|31.287152842104447|-35.511753263158006|150.31249070078857|  4.96436542181223| 56.59284332688588|         null|       null|\n",
            "| stddev|7816.023605389124|     null|       null|19.032233293159134|  79.82706281478735|2462.0157547275367|102.60625186423131|1281.7943850566444|         null|       null|\n",
            "|    min|                0|Adams, IN|Afghanistan|          -41.4545|          -157.8584|               0.0|               0.0|               0.0|    Abu Dhabi|      Adams|\n",
            "|    max|            27074| Zhejiang|     Zambia|           71.7069|            174.886|           67800.0|            3122.0|           56927.0|     erdészet|Yolo County|\n",
            "+-------+-----------------+---------+-----------+------------------+-------------------+------------------+------------------+------------------+-------------+-----------+\n",
            "\n"
          ],
          "name": "stdout"
        }
      ]
    },
    {
      "cell_type": "code",
      "metadata": {
        "colab": {
          "base_uri": "https://localhost:8080/"
        },
        "id": "4bgLwENpTWrC",
        "outputId": "0edb30c0-4b01-4296-e013-d1a30a976ee4"
      },
      "source": [
        "CV_data.printSchema()"
      ],
      "execution_count": 45,
      "outputs": [
        {
          "output_type": "stream",
          "text": [
            "root\n",
            " |-- _c0: integer (nullable = true)\n",
            " |-- State: string (nullable = true)\n",
            " |-- Country: string (nullable = true)\n",
            " |-- Lat: double (nullable = true)\n",
            " |-- Long: double (nullable = true)\n",
            " |-- Date: timestamp (nullable = true)\n",
            " |-- Confirmed: double (nullable = true)\n",
            " |-- Death: double (nullable = true)\n",
            " |-- Recovered: double (nullable = true)\n",
            " |-- state_cleaned: string (nullable = true)\n",
            " |-- City: string (nullable = true)\n",
            "\n"
          ],
          "name": "stdout"
        }
      ]
    },
    {
      "cell_type": "code",
      "metadata": {
        "colab": {
          "base_uri": "https://localhost:8080/"
        },
        "id": "Rf83p5PKTY6Q",
        "outputId": "0dce5ee5-a97c-4998-ff47-7a0790566794"
      },
      "source": [
        "CV_data.filter('Confirmed>20000').sort(col('Confirmed'),ascending=False).show()"
      ],
      "execution_count": 46,
      "outputs": [
        {
          "output_type": "stream",
          "text": [
            "+-----+-----+-------+-------+--------+-------------------+---------+------+---------+-------------+----+\n",
            "|  _c0|State|Country|    Lat|    Long|               Date|Confirmed| Death|Recovered|state_cleaned|City|\n",
            "+-----+-----+-------+-------+--------+-------------------+---------+------+---------+-------------+----+\n",
            "|26754|Hubei|  China|30.9756|112.2707|2020-03-18 00:00:00|  67800.0|3122.0|  56927.0|        Hubei|null|\n",
            "|26279|Hubei|  China|30.9756|112.2707|2020-03-17 00:00:00|  67799.0|3111.0|  56003.0|        Hubei|null|\n",
            "|25804|Hubei|  China|30.9756|112.2707|2020-03-16 00:00:00|  67798.0|3099.0|  55142.0|        Hubei|null|\n",
            "|25329|Hubei|  China|30.9756|112.2707|2020-03-15 00:00:00|  67794.0|3085.0|  54288.0|        Hubei|null|\n",
            "|24854|Hubei|  China|30.9756|112.2707|2020-03-14 00:00:00|  67790.0|3075.0|  52960.0|        Hubei|null|\n",
            "|24379|Hubei|  China|30.9756|112.2707|2020-03-13 00:00:00|  67786.0|3062.0|  51553.0|        Hubei|null|\n",
            "|23904|Hubei|  China|30.9756|112.2707|2020-03-12 00:00:00|  67781.0|3056.0|  50318.0|        Hubei|null|\n",
            "|23429|Hubei|  China|30.9756|112.2707|2020-03-11 00:00:00|  67773.0|3046.0|  49134.0|        Hubei|null|\n",
            "|22954|Hubei|  China|30.9756|112.2707|2020-03-10 00:00:00|  67760.0|3024.0|  47743.0|        Hubei|null|\n",
            "|22479|Hubei|  China|30.9756|112.2707|2020-03-09 00:00:00|  67743.0|3008.0|  46488.0|        Hubei|null|\n",
            "|22004|Hubei|  China|30.9756|112.2707|2020-03-08 00:00:00|  67707.0|2986.0|  45235.0|        Hubei|null|\n",
            "|21529|Hubei|  China|30.9756|112.2707|2020-03-07 00:00:00|  67666.0|2959.0|  43500.0|        Hubei|null|\n",
            "|21054|Hubei|  China|30.9756|112.2707|2020-03-06 00:00:00|  67592.0|2931.0|  42033.0|        Hubei|null|\n",
            "|20579|Hubei|  China|30.9756|112.2707|2020-03-05 00:00:00|  67466.0|2902.0|  40592.0|        Hubei|null|\n",
            "|20104|Hubei|  China|30.9756|112.2707|2020-03-04 00:00:00|  67332.0|2871.0|  38557.0|        Hubei|null|\n",
            "|19629|Hubei|  China|30.9756|112.2707|2020-03-03 00:00:00|  67217.0|2835.0|  36208.0|        Hubei|null|\n",
            "|19154|Hubei|  China|30.9756|112.2707|2020-03-02 00:00:00|  67103.0|2803.0|  33934.0|        Hubei|null|\n",
            "|18679|Hubei|  China|30.9756|112.2707|2020-03-01 00:00:00|  66907.0|2761.0|  31536.0|        Hubei|null|\n",
            "|18204|Hubei|  China|30.9756|112.2707|2020-02-29 00:00:00|  66337.0|2727.0|  28993.0|        Hubei|null|\n",
            "|17729|Hubei|  China|30.9756|112.2707|2020-02-28 00:00:00|  65914.0|2682.0|  26403.0|        Hubei|null|\n",
            "+-----+-----+-------+-------+--------+-------------------+---------+------+---------+-------------+----+\n",
            "only showing top 20 rows\n",
            "\n"
          ],
          "name": "stdout"
        }
      ]
    },
    {
      "cell_type": "code",
      "metadata": {
        "colab": {
          "base_uri": "https://localhost:8080/"
        },
        "id": "XYh4fxYJU7Ka",
        "outputId": "1dee95c1-d486-43b5-9cde-fb5cb073f9bf"
      },
      "source": [
        "CV_data.filter('Confirmed>20000').approxQuantile('Confirmed',[0.25,0.5,0.75,1.0],0.95)"
      ],
      "execution_count": 47,
      "outputs": [
        {
          "output_type": "execute_result",
          "data": {
            "text/plain": [
              "[21157.0, 21157.0, 21157.0, 67800.0]"
            ]
          },
          "metadata": {
            "tags": []
          },
          "execution_count": 47
        }
      ]
    },
    {
      "cell_type": "code",
      "metadata": {
        "id": "RC2XUgJZVb-Q"
      },
      "source": [
        "CV_max_data = CV_data.agg({'Date':\"max\", 'confirmed':\"max\"})"
      ],
      "execution_count": 48,
      "outputs": []
    },
    {
      "cell_type": "code",
      "metadata": {
        "colab": {
          "base_uri": "https://localhost:8080/"
        },
        "id": "Nnew7ZBnVsIP",
        "outputId": "fc98fe36-ed57-4304-f0c2-04fbdeab584a"
      },
      "source": [
        "CV_max_data.show()"
      ],
      "execution_count": 49,
      "outputs": [
        {
          "output_type": "stream",
          "text": [
            "+--------------+-------------------+\n",
            "|max(confirmed)|          max(Date)|\n",
            "+--------------+-------------------+\n",
            "|       67800.0|2020-03-18 00:00:00|\n",
            "+--------------+-------------------+\n",
            "\n"
          ],
          "name": "stdout"
        }
      ]
    },
    {
      "cell_type": "code",
      "metadata": {
        "id": "bf69aBGGV5vW"
      },
      "source": [
        "import pyspark.sql.functions as SQL"
      ],
      "execution_count": 50,
      "outputs": []
    },
    {
      "cell_type": "code",
      "metadata": {
        "colab": {
          "base_uri": "https://localhost:8080/"
        },
        "id": "kr1ifbi_V8OQ",
        "outputId": "1b82b66a-e992-4d7b-8366-2543bd2fefed"
      },
      "source": [
        "CV_data.groupby(\"Country\",\"state_cleaned\").agg(SQL.max(\"Date\")).show()"
      ],
      "execution_count": 51,
      "outputs": [
        {
          "output_type": "stream",
          "text": [
            "+--------------+--------------------+-------------------+\n",
            "|       Country|       state_cleaned|          max(Date)|\n",
            "+--------------+--------------------+-------------------+\n",
            "|      Cameroon|             Yaounde|2020-03-18 00:00:00|\n",
            "|        Cyprus|             Nicosia|2020-03-18 00:00:00|\n",
            "|            US|            Michigan|2020-03-18 00:00:00|\n",
            "|         China|             Qinghai|2020-03-18 00:00:00|\n",
            "|      Portugal|              Lisbon|2020-03-18 00:00:00|\n",
            "|            US|            Colorado|2020-03-18 00:00:00|\n",
            "|United Kingdom|      Cayman Islands|2020-03-18 00:00:00|\n",
            "|            US|            Missouri|2020-03-18 00:00:00|\n",
            "|         China|              Hainan|2020-03-18 00:00:00|\n",
            "|     Australia|Australian Capita...|2020-03-18 00:00:00|\n",
            "|            US|                Guam|2020-03-18 00:00:00|\n",
            "|        France|             Reunion|2020-03-18 00:00:00|\n",
            "|      Colombia|        Cundinamarca|2020-03-18 00:00:00|\n",
            "|          Cuba|              Havana|2020-03-18 00:00:00|\n",
            "|     Mauritius|          Port Louis|2020-03-18 00:00:00|\n",
            "|       Ukraine|                Kiev|2020-03-18 00:00:00|\n",
            "|   Switzerland|                Bern|2020-03-18 00:00:00|\n",
            "|         Benin|          Porto-Novo|2020-03-18 00:00:00|\n",
            "|         Malta|               Mgarr|2020-03-18 00:00:00|\n",
            "|   The Bahamas|         The Bahamas|2020-03-18 00:00:00|\n",
            "+--------------+--------------------+-------------------+\n",
            "only showing top 20 rows\n",
            "\n"
          ],
          "name": "stdout"
        }
      ]
    },
    {
      "cell_type": "code",
      "metadata": {
        "colab": {
          "base_uri": "https://localhost:8080/"
        },
        "id": "iNpfs8NWXBpx",
        "outputId": "8701d365-e091-4438-f276-31846dda5343"
      },
      "source": [
        "CV_data.join(CV_data.groupby(\"Country\",\"state_cleaned\").agg(SQL.max(\"Date\").alias(\"Date\")), on=['Country','state_cleaned','Date'],how='inner').sort(\"Confirmed\",ascending=False).show()"
      ],
      "execution_count": 52,
      "outputs": [
        {
          "output_type": "stream",
          "text": [
            "+--------------+----------------+-------------------+-----+--------------+-------+-------------------+---------+------+---------+--------+\n",
            "|       Country|   state_cleaned|               Date|  _c0|         State|    Lat|               Long|Confirmed| Death|Recovered|    City|\n",
            "+--------------+----------------+-------------------+-----+--------------+-------+-------------------+---------+------+---------+--------+\n",
            "|         China|           Hubei|2020-03-18 00:00:00|26754|         Hubei|30.9756|           112.2707|  67800.0|3122.0|  56927.0|    null|\n",
            "|         Italy|            Rome|2020-03-18 00:00:00|26616|          null|   43.0|               12.0|  35713.0|2978.0|   4025.0|    null|\n",
            "|          Iran|          Tehran|2020-03-18 00:00:00|26755|          null|   32.0|               53.0|  17361.0|1135.0|   5389.0|    null|\n",
            "|         Spain|          Toledo|2020-03-18 00:00:00|26618|          null|   40.0|               -4.0|  13910.0| 623.0|   1081.0|    null|\n",
            "|       Germany|          Berlin|2020-03-18 00:00:00|26611|          null|   51.0|                9.0|  12327.0|  28.0|    105.0|    null|\n",
            "|        France|          France|2020-03-18 00:00:00|26757|        France|46.2276|             2.2137|   9043.0| 148.0|     12.0|    null|\n",
            "|  Korea, South|Gyeongsangbuk-do|2020-03-18 00:00:00|26756|          null|   36.0|              128.0|   8413.0|  84.0|   1540.0|    null|\n",
            "|   Switzerland|            Bern|2020-03-18 00:00:00|26631|          null|46.8182|             8.2275|   3028.0|  28.0|     15.0|    null|\n",
            "|United Kingdom|  United Kingdom|2020-03-18 00:00:00|27003|United Kingdom|55.3781|-3.4360000000000004|   2626.0|  71.0|     65.0|    null|\n",
            "|            US|        New York|2020-03-18 00:00:00|26699|      New York|42.1657|           -74.9481|   2495.0|  16.0|      0.0|New York|\n",
            "|   Netherlands|     Netherlands|2020-03-18 00:00:00|27043|   Netherlands|52.1326|             5.2913|   2051.0|  58.0|      2.0|    null|\n",
            "|       Austria|          Vienna|2020-03-18 00:00:00|26632|          null|47.5162|            14.5501|   1646.0|   4.0|      9.0|    null|\n",
            "|        Norway|             Hol|2020-03-18 00:00:00|26639|          null| 60.472|             8.4689|   1550.0|   6.0|      1.0|    null|\n",
            "|       Belgium|        Brussels|2020-03-18 00:00:00|26620|          null|50.8333|                4.0|   1486.0|  14.0|     31.0|    null|\n",
            "|         China|       Guangdong|2020-03-18 00:00:00|26758|     Guangdong|23.3417|           113.4244|   1370.0|   8.0|   1313.0|    null|\n",
            "|        Sweden|       Stockholm|2020-03-18 00:00:00|26617|          null|   63.0|               16.0|   1279.0|  10.0|      1.0|    null|\n",
            "|         China|           Henan|2020-03-18 00:00:00|26759|         Henan| 33.882|            113.614|   1273.0|  22.0|   1250.0|    null|\n",
            "|         China|        Zhejiang|2020-03-18 00:00:00|26760|      Zhejiang|29.1832|           120.0934|   1232.0|   1.0|   1216.0|    null|\n",
            "|       Denmark|         Denmark|2020-03-18 00:00:00|26770|       Denmark|56.2639|             9.5018|   1057.0|   4.0|      1.0|    null|\n",
            "|         China|           Hunan|2020-03-18 00:00:00|26761|         Hunan|27.6104|           111.7088|   1018.0|   4.0|   1014.0|    null|\n",
            "+--------------+----------------+-------------------+-----+--------------+-------+-------------------+---------+------+---------+--------+\n",
            "only showing top 20 rows\n",
            "\n"
          ],
          "name": "stdout"
        }
      ]
    },
    {
      "cell_type": "code",
      "metadata": {
        "id": "BuHH0Uo9ZuFC"
      },
      "source": [
        "from pyspark.sql.functions import row_number\r\n",
        "from pyspark.sql.window import Window"
      ],
      "execution_count": 53,
      "outputs": []
    },
    {
      "cell_type": "code",
      "metadata": {
        "id": "3xKUVkfvaA06"
      },
      "source": [
        "window = Window().partitionBy(\"Country\",\"state_cleaned\").orderBy(col(\"Date\").desc())"
      ],
      "execution_count": 54,
      "outputs": []
    },
    {
      "cell_type": "code",
      "metadata": {
        "colab": {
          "base_uri": "https://localhost:8080/"
        },
        "id": "zj208kBAYtjq",
        "outputId": "91604bd2-fb59-4762-e8eb-0a36ffd99279"
      },
      "source": [
        "CV_data.withColumn(\"row_num\",row_number().over(window)).show()"
      ],
      "execution_count": 55,
      "outputs": [
        {
          "output_type": "stream",
          "text": [
            "+-----+-----+--------+-----+-------+-------------------+---------+-----+---------+-------------+----+-------+\n",
            "|  _c0|State| Country|  Lat|   Long|               Date|Confirmed|Death|Recovered|state_cleaned|City|row_num|\n",
            "+-----+-----+--------+-----+-------+-------------------+---------+-----+---------+-------------+----+-------+\n",
            "|26679| null|Cameroon|3.848|11.5021|2020-03-18 00:00:00|     10.0|  0.0|      0.0|      Yaounde|null|      1|\n",
            "|26204| null|Cameroon|3.848|11.5021|2020-03-17 00:00:00|     10.0|  0.0|      0.0|      Yaounde|null|      2|\n",
            "|25729| null|Cameroon|3.848|11.5021|2020-03-16 00:00:00|      4.0|  0.0|      0.0|      Yaounde|null|      3|\n",
            "|25254| null|Cameroon|3.848|11.5021|2020-03-15 00:00:00|      2.0|  0.0|      0.0|      Yaounde|null|      4|\n",
            "|24779| null|Cameroon|3.848|11.5021|2020-03-14 00:00:00|      2.0|  0.0|      0.0|      Yaounde|null|      5|\n",
            "|24304| null|Cameroon|3.848|11.5021|2020-03-13 00:00:00|      2.0|  0.0|      0.0|      Yaounde|null|      6|\n",
            "|23829| null|Cameroon|3.848|11.5021|2020-03-12 00:00:00|      2.0|  0.0|      0.0|      Yaounde|null|      7|\n",
            "|23354| null|Cameroon|3.848|11.5021|2020-03-11 00:00:00|      2.0|  0.0|      0.0|      Yaounde|null|      8|\n",
            "|22879| null|Cameroon|3.848|11.5021|2020-03-10 00:00:00|      2.0|  0.0|      0.0|      Yaounde|null|      9|\n",
            "|22404| null|Cameroon|3.848|11.5021|2020-03-09 00:00:00|      2.0|  0.0|      0.0|      Yaounde|null|     10|\n",
            "|21929| null|Cameroon|3.848|11.5021|2020-03-08 00:00:00|      2.0|  0.0|      0.0|      Yaounde|null|     11|\n",
            "|21454| null|Cameroon|3.848|11.5021|2020-03-07 00:00:00|      1.0|  0.0|      0.0|      Yaounde|null|     12|\n",
            "|20979| null|Cameroon|3.848|11.5021|2020-03-06 00:00:00|      1.0|  0.0|      0.0|      Yaounde|null|     13|\n",
            "|20504| null|Cameroon|3.848|11.5021|2020-03-05 00:00:00|      0.0|  0.0|      0.0|      Yaounde|null|     14|\n",
            "|20029| null|Cameroon|3.848|11.5021|2020-03-04 00:00:00|      0.0|  0.0|      0.0|      Yaounde|null|     15|\n",
            "|19554| null|Cameroon|3.848|11.5021|2020-03-03 00:00:00|      0.0|  0.0|      0.0|      Yaounde|null|     16|\n",
            "|19079| null|Cameroon|3.848|11.5021|2020-03-02 00:00:00|      0.0|  0.0|      0.0|      Yaounde|null|     17|\n",
            "|18604| null|Cameroon|3.848|11.5021|2020-03-01 00:00:00|      0.0|  0.0|      0.0|      Yaounde|null|     18|\n",
            "|18129| null|Cameroon|3.848|11.5021|2020-02-29 00:00:00|      0.0|  0.0|      0.0|      Yaounde|null|     19|\n",
            "|17654| null|Cameroon|3.848|11.5021|2020-02-28 00:00:00|      0.0|  0.0|      0.0|      Yaounde|null|     20|\n",
            "+-----+-----+--------+-----+-------+-------------------+---------+-----+---------+-------------+----+-------+\n",
            "only showing top 20 rows\n",
            "\n"
          ],
          "name": "stdout"
        }
      ]
    },
    {
      "cell_type": "code",
      "metadata": {
        "colab": {
          "base_uri": "https://localhost:8080/"
        },
        "id": "jOR1TDcHaxiI",
        "outputId": "9c8a882a-94f6-49cb-ead5-31904d41b44e"
      },
      "source": [
        "CV_data.groupBy('Country').pivot(\"Date\").agg(SQL.sum(\"confirmed\")).show()"
      ],
      "execution_count": 56,
      "outputs": [
        {
          "output_type": "stream",
          "text": [
            "+-----------+-------------------+-------------------+-------------------+-------------------+-------------------+-------------------+-------------------+-------------------+-------------------+-------------------+-------------------+-------------------+-------------------+-------------------+-------------------+-------------------+-------------------+-------------------+-------------------+-------------------+-------------------+-------------------+-------------------+-------------------+-------------------+-------------------+-------------------+-------------------+-------------------+-------------------+-------------------+-------------------+-------------------+-------------------+-------------------+-------------------+-------------------+-------------------+-------------------+-------------------+-------------------+-------------------+-------------------+-------------------+-------------------+-------------------+-------------------+-------------------+-------------------+-------------------+-------------------+-------------------+-------------------+-------------------+-------------------+-------------------+-------------------+\n",
            "|    Country|2020-01-22 00:00:00|2020-01-23 00:00:00|2020-01-24 00:00:00|2020-01-25 00:00:00|2020-01-26 00:00:00|2020-01-27 00:00:00|2020-01-28 00:00:00|2020-01-29 00:00:00|2020-01-30 00:00:00|2020-01-31 00:00:00|2020-02-01 00:00:00|2020-02-02 00:00:00|2020-02-03 00:00:00|2020-02-04 00:00:00|2020-02-05 00:00:00|2020-02-06 00:00:00|2020-02-07 00:00:00|2020-02-08 00:00:00|2020-02-09 00:00:00|2020-02-10 00:00:00|2020-02-11 00:00:00|2020-02-12 00:00:00|2020-02-13 00:00:00|2020-02-14 00:00:00|2020-02-15 00:00:00|2020-02-16 00:00:00|2020-02-17 00:00:00|2020-02-18 00:00:00|2020-02-19 00:00:00|2020-02-20 00:00:00|2020-02-21 00:00:00|2020-02-22 00:00:00|2020-02-23 00:00:00|2020-02-24 00:00:00|2020-02-25 00:00:00|2020-02-26 00:00:00|2020-02-27 00:00:00|2020-02-28 00:00:00|2020-02-29 00:00:00|2020-03-01 00:00:00|2020-03-02 00:00:00|2020-03-03 00:00:00|2020-03-04 00:00:00|2020-03-05 00:00:00|2020-03-06 00:00:00|2020-03-07 00:00:00|2020-03-08 00:00:00|2020-03-09 00:00:00|2020-03-10 00:00:00|2020-03-11 00:00:00|2020-03-12 00:00:00|2020-03-13 00:00:00|2020-03-14 00:00:00|2020-03-15 00:00:00|2020-03-16 00:00:00|2020-03-17 00:00:00|2020-03-18 00:00:00|\n",
            "+-----------+-------------------+-------------------+-------------------+-------------------+-------------------+-------------------+-------------------+-------------------+-------------------+-------------------+-------------------+-------------------+-------------------+-------------------+-------------------+-------------------+-------------------+-------------------+-------------------+-------------------+-------------------+-------------------+-------------------+-------------------+-------------------+-------------------+-------------------+-------------------+-------------------+-------------------+-------------------+-------------------+-------------------+-------------------+-------------------+-------------------+-------------------+-------------------+-------------------+-------------------+-------------------+-------------------+-------------------+-------------------+-------------------+-------------------+-------------------+-------------------+-------------------+-------------------+-------------------+-------------------+-------------------+-------------------+-------------------+-------------------+-------------------+\n",
            "|     Russia|                0.0|                0.0|                0.0|                0.0|                0.0|                0.0|                0.0|                0.0|                0.0|                2.0|                2.0|                2.0|                2.0|                2.0|                2.0|                2.0|                2.0|                2.0|                2.0|                2.0|                2.0|                2.0|                2.0|                2.0|                2.0|                2.0|                2.0|                2.0|                2.0|                2.0|                2.0|                2.0|                2.0|                2.0|                2.0|                2.0|                2.0|                2.0|                2.0|                2.0|                3.0|                3.0|                3.0|                4.0|               13.0|               13.0|               17.0|               17.0|               20.0|               20.0|               28.0|               45.0|               59.0|               63.0|               90.0|              114.0|              147.0|\n",
            "|   Paraguay|                0.0|                0.0|                0.0|                0.0|                0.0|                0.0|                0.0|                0.0|                0.0|                0.0|                0.0|                0.0|                0.0|                0.0|                0.0|                0.0|                0.0|                0.0|                0.0|                0.0|                0.0|                0.0|                0.0|                0.0|                0.0|                0.0|                0.0|                0.0|                0.0|                0.0|                0.0|                0.0|                0.0|                0.0|                0.0|                0.0|                0.0|                0.0|                0.0|                0.0|                0.0|                0.0|                0.0|                0.0|                0.0|                0.0|                1.0|                1.0|                1.0|                5.0|                5.0|                6.0|                6.0|                6.0|                8.0|                9.0|               11.0|\n",
            "|    Senegal|                0.0|                0.0|                0.0|                0.0|                0.0|                0.0|                0.0|                0.0|                0.0|                0.0|                0.0|                0.0|                0.0|                0.0|                0.0|                0.0|                0.0|                0.0|                0.0|                0.0|                0.0|                0.0|                0.0|                0.0|                0.0|                0.0|                0.0|                0.0|                0.0|                0.0|                0.0|                0.0|                0.0|                0.0|                0.0|                0.0|                0.0|                0.0|                0.0|                0.0|                1.0|                2.0|                4.0|                4.0|                4.0|                4.0|                4.0|                4.0|                4.0|                4.0|                4.0|               10.0|               10.0|               24.0|               24.0|               26.0|               31.0|\n",
            "|     Sweden|                0.0|                0.0|                0.0|                0.0|                0.0|                0.0|                0.0|                0.0|                0.0|                1.0|                1.0|                1.0|                1.0|                1.0|                1.0|                1.0|                1.0|                1.0|                1.0|                1.0|                1.0|                1.0|                1.0|                1.0|                1.0|                1.0|                1.0|                1.0|                1.0|                1.0|                1.0|                1.0|                1.0|                1.0|                1.0|                2.0|                7.0|                7.0|               12.0|               14.0|               15.0|               21.0|               35.0|               94.0|              101.0|              161.0|              203.0|              248.0|              355.0|              500.0|              599.0|              814.0|              961.0|             1022.0|             1103.0|             1190.0|             1279.0|\n",
            "|     Guyana|                0.0|                0.0|                0.0|                0.0|                0.0|                0.0|                0.0|                0.0|                0.0|                0.0|                0.0|                0.0|                0.0|                0.0|                0.0|                0.0|                0.0|                0.0|                0.0|                0.0|                0.0|                0.0|                0.0|                0.0|                0.0|                0.0|                0.0|                0.0|                0.0|                0.0|                0.0|                0.0|                0.0|                0.0|                0.0|                0.0|                0.0|                0.0|                0.0|                0.0|                0.0|                0.0|                0.0|                0.0|                0.0|                0.0|                0.0|                0.0|                0.0|                0.0|                1.0|                1.0|                1.0|                4.0|                4.0|                7.0|                7.0|\n",
            "|     Jersey|                0.0|                0.0|                0.0|                0.0|                0.0|                0.0|                0.0|                0.0|                0.0|                0.0|                0.0|                0.0|                0.0|                0.0|                0.0|                0.0|                0.0|                0.0|                0.0|                0.0|                0.0|                0.0|                0.0|                0.0|                0.0|                0.0|                0.0|                0.0|                0.0|                0.0|                0.0|                0.0|                0.0|                0.0|                0.0|                0.0|                0.0|                0.0|                0.0|                0.0|                0.0|                0.0|                0.0|                0.0|                0.0|                0.0|                0.0|                0.0|                0.0|                0.0|                0.0|                0.0|                2.0|                2.0|                2.0|                2.0|                0.0|\n",
            "|Philippines|                0.0|                0.0|                0.0|                0.0|                0.0|                0.0|                0.0|                0.0|                1.0|                1.0|                1.0|                2.0|                2.0|                2.0|                2.0|                2.0|                3.0|                3.0|                3.0|                3.0|                3.0|                3.0|                3.0|                3.0|                3.0|                3.0|                3.0|                3.0|                3.0|                3.0|                3.0|                3.0|                3.0|                3.0|                3.0|                3.0|                3.0|                3.0|                3.0|                3.0|                3.0|                3.0|                3.0|                3.0|                5.0|                6.0|               10.0|               20.0|               33.0|               49.0|               52.0|               64.0|              111.0|              140.0|              142.0|              187.0|              202.0|\n",
            "|   Djibouti|                0.0|                0.0|                0.0|                0.0|                0.0|                0.0|                0.0|                0.0|                0.0|                0.0|                0.0|                0.0|                0.0|                0.0|                0.0|                0.0|                0.0|                0.0|                0.0|                0.0|                0.0|                0.0|                0.0|                0.0|                0.0|                0.0|                0.0|                0.0|                0.0|                0.0|                0.0|                0.0|                0.0|                0.0|                0.0|                0.0|                0.0|                0.0|                0.0|                0.0|                0.0|                0.0|                0.0|                0.0|                0.0|                0.0|                0.0|                0.0|                0.0|                0.0|                0.0|                0.0|                0.0|                0.0|                0.0|                0.0|                1.0|\n",
            "|   Malaysia|                0.0|                0.0|                0.0|                3.0|                4.0|                4.0|                4.0|                7.0|                8.0|                8.0|                8.0|                8.0|                8.0|               10.0|               12.0|               12.0|               12.0|               16.0|               16.0|               18.0|               18.0|               18.0|               19.0|               19.0|               22.0|               22.0|               22.0|               22.0|               22.0|               22.0|               22.0|               22.0|               22.0|               22.0|               22.0|               22.0|               23.0|               23.0|               25.0|               29.0|               29.0|               36.0|               50.0|               50.0|               83.0|               93.0|               99.0|              117.0|              129.0|              149.0|              149.0|              197.0|              238.0|              428.0|              566.0|              673.0|              790.0|\n",
            "|  Singapore|                0.0|                1.0|                3.0|                3.0|                4.0|                5.0|                7.0|                7.0|               10.0|               13.0|               16.0|               18.0|               18.0|               24.0|               28.0|               28.0|               30.0|               33.0|               40.0|               45.0|               47.0|               50.0|               58.0|               67.0|               72.0|               75.0|               77.0|               81.0|               84.0|               84.0|               85.0|               85.0|               89.0|               89.0|               91.0|               93.0|               93.0|               93.0|              102.0|              106.0|              108.0|              110.0|              110.0|              117.0|              130.0|              138.0|              150.0|              150.0|              160.0|              178.0|              178.0|              200.0|              212.0|              226.0|              243.0|              266.0|              313.0|\n",
            "|     Turkey|                0.0|                0.0|                0.0|                0.0|                0.0|                0.0|                0.0|                0.0|                0.0|                0.0|                0.0|                0.0|                0.0|                0.0|                0.0|                0.0|                0.0|                0.0|                0.0|                0.0|                0.0|                0.0|                0.0|                0.0|                0.0|                0.0|                0.0|                0.0|                0.0|                0.0|                0.0|                0.0|                0.0|                0.0|                0.0|                0.0|                0.0|                0.0|                0.0|                0.0|                0.0|                0.0|                0.0|                0.0|                0.0|                0.0|                0.0|                0.0|                0.0|                1.0|                1.0|                5.0|                5.0|                6.0|               18.0|               47.0|               98.0|\n",
            "|       Iraq|                0.0|                0.0|                0.0|                0.0|                0.0|                0.0|                0.0|                0.0|                0.0|                0.0|                0.0|                0.0|                0.0|                0.0|                0.0|                0.0|                0.0|                0.0|                0.0|                0.0|                0.0|                0.0|                0.0|                0.0|                0.0|                0.0|                0.0|                0.0|                0.0|                0.0|                0.0|                0.0|                0.0|                1.0|                1.0|                5.0|                7.0|                7.0|               13.0|               19.0|               26.0|               32.0|               35.0|               35.0|               40.0|               54.0|               60.0|               60.0|               71.0|               71.0|               71.0|              101.0|              110.0|              116.0|              124.0|              154.0|              164.0|\n",
            "|    Germany|                0.0|                0.0|                0.0|                0.0|                0.0|                1.0|                4.0|                4.0|                4.0|                5.0|                8.0|               10.0|               12.0|               12.0|               12.0|               12.0|               13.0|               13.0|               14.0|               14.0|               16.0|               16.0|               16.0|               16.0|               16.0|               16.0|               16.0|               16.0|               16.0|               16.0|               16.0|               16.0|               16.0|               16.0|               17.0|               27.0|               46.0|               48.0|               79.0|              130.0|              159.0|              196.0|              262.0|              482.0|              670.0|              799.0|             1040.0|             1176.0|             1457.0|             1908.0|             2078.0|             3675.0|             4585.0|             5795.0|             7272.0|             9257.0|            12327.0|\n",
            "|   Cambodia|                0.0|                0.0|                0.0|                0.0|                0.0|                1.0|                1.0|                1.0|                1.0|                1.0|                1.0|                1.0|                1.0|                1.0|                1.0|                1.0|                1.0|                1.0|                1.0|                1.0|                1.0|                1.0|                1.0|                1.0|                1.0|                1.0|                1.0|                1.0|                1.0|                1.0|                1.0|                1.0|                1.0|                1.0|                1.0|                1.0|                1.0|                1.0|                1.0|                1.0|                1.0|                1.0|                1.0|                1.0|                1.0|                1.0|                2.0|                2.0|                2.0|                3.0|                3.0|                5.0|                7.0|                7.0|                7.0|               33.0|               35.0|\n",
            "|Afghanistan|                0.0|                0.0|                0.0|                0.0|                0.0|                0.0|                0.0|                0.0|                0.0|                0.0|                0.0|                0.0|                0.0|                0.0|                0.0|                0.0|                0.0|                0.0|                0.0|                0.0|                0.0|                0.0|                0.0|                0.0|                0.0|                0.0|                0.0|                0.0|                0.0|                0.0|                0.0|                0.0|                0.0|                1.0|                1.0|                1.0|                1.0|                1.0|                1.0|                1.0|                1.0|                1.0|                1.0|                1.0|                1.0|                1.0|                4.0|                4.0|                5.0|                7.0|                7.0|                7.0|               11.0|               16.0|               21.0|               22.0|               22.0|\n",
            "|     Jordan|                0.0|                0.0|                0.0|                0.0|                0.0|                0.0|                0.0|                0.0|                0.0|                0.0|                0.0|                0.0|                0.0|                0.0|                0.0|                0.0|                0.0|                0.0|                0.0|                0.0|                0.0|                0.0|                0.0|                0.0|                0.0|                0.0|                0.0|                0.0|                0.0|                0.0|                0.0|                0.0|                0.0|                0.0|                0.0|                0.0|                0.0|                0.0|                0.0|                0.0|                0.0|                1.0|                1.0|                1.0|                1.0|                1.0|                1.0|                1.0|                1.0|                1.0|                1.0|                1.0|                1.0|                8.0|               17.0|               34.0|               52.0|\n",
            "|     Rwanda|                0.0|                0.0|                0.0|                0.0|                0.0|                0.0|                0.0|                0.0|                0.0|                0.0|                0.0|                0.0|                0.0|                0.0|                0.0|                0.0|                0.0|                0.0|                0.0|                0.0|                0.0|                0.0|                0.0|                0.0|                0.0|                0.0|                0.0|                0.0|                0.0|                0.0|                0.0|                0.0|                0.0|                0.0|                0.0|                0.0|                0.0|                0.0|                0.0|                0.0|                0.0|                0.0|                0.0|                0.0|                0.0|                0.0|                0.0|                0.0|                0.0|                0.0|                0.0|                0.0|                1.0|                1.0|                5.0|                7.0|                8.0|\n",
            "|   Maldives|                0.0|                0.0|                0.0|                0.0|                0.0|                0.0|                0.0|                0.0|                0.0|                0.0|                0.0|                0.0|                0.0|                0.0|                0.0|                0.0|                0.0|                0.0|                0.0|                0.0|                0.0|                0.0|                0.0|                0.0|                0.0|                0.0|                0.0|                0.0|                0.0|                0.0|                0.0|                0.0|                0.0|                0.0|                0.0|                0.0|                0.0|                0.0|                0.0|                0.0|                0.0|                0.0|                0.0|                0.0|                0.0|                0.0|                4.0|                4.0|                6.0|                8.0|                8.0|                9.0|               10.0|               13.0|               13.0|               13.0|               13.0|\n",
            "|      Sudan|                0.0|                0.0|                0.0|                0.0|                0.0|                0.0|                0.0|                0.0|                0.0|                0.0|                0.0|                0.0|                0.0|                0.0|                0.0|                0.0|                0.0|                0.0|                0.0|                0.0|                0.0|                0.0|                0.0|                0.0|                0.0|                0.0|                0.0|                0.0|                0.0|                0.0|                0.0|                0.0|                0.0|                0.0|                0.0|                0.0|                0.0|                0.0|                0.0|                0.0|                0.0|                0.0|                0.0|                0.0|                0.0|                0.0|                0.0|                0.0|                0.0|                0.0|                0.0|                1.0|                1.0|                1.0|                1.0|                1.0|                2.0|\n",
            "|     France|                0.0|                0.0|                2.0|                3.0|                3.0|                3.0|                4.0|                5.0|                5.0|                5.0|                6.0|                6.0|                6.0|                6.0|                6.0|                6.0|                6.0|               11.0|               11.0|               11.0|               11.0|               11.0|               11.0|               11.0|               12.0|               12.0|               12.0|               12.0|               12.0|               12.0|               12.0|               12.0|               12.0|               12.0|               14.0|               18.0|               38.0|               57.0|              100.0|              130.0|              191.0|              204.0|              288.0|              380.0|              656.0|              957.0|             1134.0|             1217.0|             1792.0|             2290.0|             2290.0|             3678.0|             4487.0|             4523.0|             6668.0|             7699.0|             9052.0|\n",
            "+-----------+-------------------+-------------------+-------------------+-------------------+-------------------+-------------------+-------------------+-------------------+-------------------+-------------------+-------------------+-------------------+-------------------+-------------------+-------------------+-------------------+-------------------+-------------------+-------------------+-------------------+-------------------+-------------------+-------------------+-------------------+-------------------+-------------------+-------------------+-------------------+-------------------+-------------------+-------------------+-------------------+-------------------+-------------------+-------------------+-------------------+-------------------+-------------------+-------------------+-------------------+-------------------+-------------------+-------------------+-------------------+-------------------+-------------------+-------------------+-------------------+-------------------+-------------------+-------------------+-------------------+-------------------+-------------------+-------------------+-------------------+-------------------+\n",
            "only showing top 20 rows\n",
            "\n"
          ],
          "name": "stdout"
        }
      ]
    },
    {
      "cell_type": "code",
      "metadata": {
        "colab": {
          "base_uri": "https://localhost:8080/"
        },
        "id": "H9kdOd5Xbqqb",
        "outputId": "dffdb722-e5d9-42f3-dca7-0edd59cbd9c8"
      },
      "source": [
        "CV_data.filter(\"Country=='Australia'\").crosstab(\"State\",\"Date\").show()"
      ],
      "execution_count": 57,
      "outputs": [
        {
          "output_type": "stream",
          "text": [
            "+--------------------+---------------------+---------------------+---------------------+---------------------+---------------------+---------------------+---------------------+---------------------+---------------------+---------------------+---------------------+---------------------+---------------------+---------------------+---------------------+---------------------+---------------------+---------------------+---------------------+---------------------+---------------------+---------------------+---------------------+---------------------+---------------------+---------------------+---------------------+---------------------+---------------------+---------------------+---------------------+---------------------+---------------------+---------------------+---------------------+---------------------+---------------------+---------------------+---------------------+---------------------+---------------------+---------------------+---------------------+---------------------+---------------------+---------------------+---------------------+---------------------+---------------------+---------------------+---------------------+---------------------+---------------------+---------------------+---------------------+---------------------+---------------------+\n",
            "|          State_Date|2020-01-22 00:00:00.0|2020-01-23 00:00:00.0|2020-01-24 00:00:00.0|2020-01-25 00:00:00.0|2020-01-26 00:00:00.0|2020-01-27 00:00:00.0|2020-01-28 00:00:00.0|2020-01-29 00:00:00.0|2020-01-30 00:00:00.0|2020-01-31 00:00:00.0|2020-02-01 00:00:00.0|2020-02-02 00:00:00.0|2020-02-03 00:00:00.0|2020-02-04 00:00:00.0|2020-02-05 00:00:00.0|2020-02-06 00:00:00.0|2020-02-07 00:00:00.0|2020-02-08 00:00:00.0|2020-02-09 00:00:00.0|2020-02-10 00:00:00.0|2020-02-11 00:00:00.0|2020-02-12 00:00:00.0|2020-02-13 00:00:00.0|2020-02-14 00:00:00.0|2020-02-15 00:00:00.0|2020-02-16 00:00:00.0|2020-02-17 00:00:00.0|2020-02-18 00:00:00.0|2020-02-19 00:00:00.0|2020-02-20 00:00:00.0|2020-02-21 00:00:00.0|2020-02-22 00:00:00.0|2020-02-23 00:00:00.0|2020-02-24 00:00:00.0|2020-02-25 00:00:00.0|2020-02-26 00:00:00.0|2020-02-27 00:00:00.0|2020-02-28 00:00:00.0|2020-02-29 00:00:00.0|2020-03-01 00:00:00.0|2020-03-02 00:00:00.0|2020-03-03 00:00:00.0|2020-03-04 00:00:00.0|2020-03-05 00:00:00.0|2020-03-06 00:00:00.0|2020-03-07 00:00:00.0|2020-03-08 00:00:00.0|2020-03-09 00:00:00.0|2020-03-10 00:00:00.0|2020-03-11 00:00:00.0|2020-03-12 00:00:00.0|2020-03-13 00:00:00.0|2020-03-14 00:00:00.0|2020-03-15 00:00:00.0|2020-03-16 00:00:00.0|2020-03-17 00:00:00.0|2020-03-18 00:00:00.0|\n",
            "+--------------------+---------------------+---------------------+---------------------+---------------------+---------------------+---------------------+---------------------+---------------------+---------------------+---------------------+---------------------+---------------------+---------------------+---------------------+---------------------+---------------------+---------------------+---------------------+---------------------+---------------------+---------------------+---------------------+---------------------+---------------------+---------------------+---------------------+---------------------+---------------------+---------------------+---------------------+---------------------+---------------------+---------------------+---------------------+---------------------+---------------------+---------------------+---------------------+---------------------+---------------------+---------------------+---------------------+---------------------+---------------------+---------------------+---------------------+---------------------+---------------------+---------------------+---------------------+---------------------+---------------------+---------------------+---------------------+---------------------+---------------------+---------------------+\n",
            "|            Victoria|                    1|                    1|                    1|                    1|                    1|                    1|                    1|                    1|                    1|                    1|                    1|                    1|                    1|                    1|                    1|                    1|                    1|                    1|                    1|                    1|                    1|                    1|                    1|                    1|                    1|                    1|                    1|                    1|                    1|                    1|                    1|                    1|                    1|                    1|                    1|                    1|                    1|                    1|                    1|                    1|                    1|                    1|                    1|                    1|                    1|                    1|                    1|                    1|                    1|                    1|                    1|                    1|                    1|                    1|                    1|                    1|                    1|\n",
            "|     New South Wales|                    1|                    1|                    1|                    1|                    1|                    1|                    1|                    1|                    1|                    1|                    1|                    1|                    1|                    1|                    1|                    1|                    1|                    1|                    1|                    1|                    1|                    1|                    1|                    1|                    1|                    1|                    1|                    1|                    1|                    1|                    1|                    1|                    1|                    1|                    1|                    1|                    1|                    1|                    1|                    1|                    1|                    1|                    1|                    1|                    1|                    1|                    1|                    1|                    1|                    1|                    1|                    1|                    1|                    1|                    1|                    1|                    1|\n",
            "|  Northern Territory|                    1|                    1|                    1|                    1|                    1|                    1|                    1|                    1|                    1|                    1|                    1|                    1|                    1|                    1|                    1|                    1|                    1|                    1|                    1|                    1|                    1|                    1|                    1|                    1|                    1|                    1|                    1|                    1|                    1|                    1|                    1|                    1|                    1|                    1|                    1|                    1|                    1|                    1|                    1|                    1|                    1|                    1|                    1|                    1|                    1|                    1|                    1|                    1|                    1|                    1|                    1|                    1|                    1|                    1|                    1|                    1|                    1|\n",
            "|From Diamond Prin...|                    1|                    1|                    1|                    1|                    1|                    1|                    1|                    1|                    1|                    1|                    1|                    1|                    1|                    1|                    1|                    1|                    1|                    1|                    1|                    1|                    1|                    1|                    1|                    1|                    1|                    1|                    1|                    1|                    1|                    1|                    1|                    1|                    1|                    1|                    1|                    1|                    1|                    1|                    1|                    1|                    1|                    1|                    1|                    1|                    1|                    1|                    1|                    1|                    1|                    1|                    1|                    1|                    1|                    1|                    1|                    1|                    1|\n",
            "|   Western Australia|                    1|                    1|                    1|                    1|                    1|                    1|                    1|                    1|                    1|                    1|                    1|                    1|                    1|                    1|                    1|                    1|                    1|                    1|                    1|                    1|                    1|                    1|                    1|                    1|                    1|                    1|                    1|                    1|                    1|                    1|                    1|                    1|                    1|                    1|                    1|                    1|                    1|                    1|                    1|                    1|                    1|                    1|                    1|                    1|                    1|                    1|                    1|                    1|                    1|                    1|                    1|                    1|                    1|                    1|                    1|                    1|                    1|\n",
            "|            Tasmania|                    1|                    1|                    1|                    1|                    1|                    1|                    1|                    1|                    1|                    1|                    1|                    1|                    1|                    1|                    1|                    1|                    1|                    1|                    1|                    1|                    1|                    1|                    1|                    1|                    1|                    1|                    1|                    1|                    1|                    1|                    1|                    1|                    1|                    1|                    1|                    1|                    1|                    1|                    1|                    1|                    1|                    1|                    1|                    1|                    1|                    1|                    1|                    1|                    1|                    1|                    1|                    1|                    1|                    1|                    1|                    1|                    1|\n",
            "|     South Australia|                    1|                    1|                    1|                    1|                    1|                    1|                    1|                    1|                    1|                    1|                    1|                    1|                    1|                    1|                    1|                    1|                    1|                    1|                    1|                    1|                    1|                    1|                    1|                    1|                    1|                    1|                    1|                    1|                    1|                    1|                    1|                    1|                    1|                    1|                    1|                    1|                    1|                    1|                    1|                    1|                    1|                    1|                    1|                    1|                    1|                    1|                    1|                    1|                    1|                    1|                    1|                    1|                    1|                    1|                    1|                    1|                    1|\n",
            "|Australian Capita...|                    1|                    1|                    1|                    1|                    1|                    1|                    1|                    1|                    1|                    1|                    1|                    1|                    1|                    1|                    1|                    1|                    1|                    1|                    1|                    1|                    1|                    1|                    1|                    1|                    1|                    1|                    1|                    1|                    1|                    1|                    1|                    1|                    1|                    1|                    1|                    1|                    1|                    1|                    1|                    1|                    1|                    1|                    1|                    1|                    1|                    1|                    1|                    1|                    1|                    1|                    1|                    1|                    1|                    1|                    1|                    1|                    1|\n",
            "|          Queensland|                    1|                    1|                    1|                    1|                    1|                    1|                    1|                    1|                    1|                    1|                    1|                    1|                    1|                    1|                    1|                    1|                    1|                    1|                    1|                    1|                    1|                    1|                    1|                    1|                    1|                    1|                    1|                    1|                    1|                    1|                    1|                    1|                    1|                    1|                    1|                    1|                    1|                    1|                    1|                    1|                    1|                    1|                    1|                    1|                    1|                    1|                    1|                    1|                    1|                    1|                    1|                    1|                    1|                    1|                    1|                    1|                    1|\n",
            "+--------------------+---------------------+---------------------+---------------------+---------------------+---------------------+---------------------+---------------------+---------------------+---------------------+---------------------+---------------------+---------------------+---------------------+---------------------+---------------------+---------------------+---------------------+---------------------+---------------------+---------------------+---------------------+---------------------+---------------------+---------------------+---------------------+---------------------+---------------------+---------------------+---------------------+---------------------+---------------------+---------------------+---------------------+---------------------+---------------------+---------------------+---------------------+---------------------+---------------------+---------------------+---------------------+---------------------+---------------------+---------------------+---------------------+---------------------+---------------------+---------------------+---------------------+---------------------+---------------------+---------------------+---------------------+---------------------+---------------------+---------------------+---------------------+\n",
            "\n"
          ],
          "name": "stdout"
        }
      ]
    },
    {
      "cell_type": "code",
      "metadata": {
        "colab": {
          "base_uri": "https://localhost:8080/"
        },
        "id": "7hhxqSGdbEX1",
        "outputId": "f6afa405-3e7b-4d43-accf-aebc874414ff"
      },
      "source": [
        "CV_data.groupby(\"Country\").agg({\"Confirmed\":'sum',\"Death\":'sum',\"Recovered\":'sum'}).orderBy(\"sum(Death)\",ascending=False).show()"
      ],
      "execution_count": 58,
      "outputs": [
        {
          "output_type": "stream",
          "text": [
            "+--------------+--------------+----------+--------------+\n",
            "|       Country|sum(Recovered)|sum(Death)|sum(Confirmed)|\n",
            "+--------------+--------------+----------+--------------+\n",
            "|         China|     1428378.0|  103112.0|     3124622.0|\n",
            "|         Italy|       21954.0|   16221.0|      238049.0|\n",
            "|          Iran|       43977.0|    7166.0|      150833.0|\n",
            "|         Spain|        4398.0|    2325.0|       64917.0|\n",
            "|  Korea, South|        7443.0|    1048.0|      137889.0|\n",
            "|        France|         318.0|     930.0|       48132.0|\n",
            "|            US|         355.0|     691.0|       34228.0|\n",
            "|         Japan|        1938.0|     275.0|       12584.0|\n",
            "|United Kingdom|         473.0|     268.0|       12086.0|\n",
            "|   Netherlands|          10.0|     189.0|       10548.0|\n",
            "|   Cruise Ship|        2894.0|     151.0|       22668.0|\n",
            "|   Switzerland|          66.0|     125.0|       15979.0|\n",
            "|   Philippines|          51.0|     108.0|        1118.0|\n",
            "|          Iraq|         213.0|     107.0|        1377.0|\n",
            "|       Germany|         770.0|     106.0|       53847.0|\n",
            "|    San Marino|          20.0|      54.0|         955.0|\n",
            "|     Australia|         549.0|      49.0|        3524.0|\n",
            "|       Belgium|          61.0|      46.0|        7655.0|\n",
            "|     Indonesia|          51.0|      45.0|         951.0|\n",
            "|       Taiwan*|         350.0|      32.0|        1607.0|\n",
            "+--------------+--------------+----------+--------------+\n",
            "only showing top 20 rows\n",
            "\n"
          ],
          "name": "stdout"
        }
      ]
    },
    {
      "cell_type": "code",
      "metadata": {
        "colab": {
          "base_uri": "https://localhost:8080/"
        },
        "id": "xFp-_GJrWXJ6",
        "outputId": "db6265e8-3656-4955-b712-ea5d13afa6e1"
      },
      "source": [
        "CV_data.withColumn(\"Okay_now\",CV_data.Confirmed - CV_data.Recovered - CV_data.Death).sort(\"Okay_now\",ascending=False).show()"
      ],
      "execution_count": 59,
      "outputs": [
        {
          "output_type": "stream",
          "text": [
            "+-----+-----+-------+-------+--------+-------------------+---------+------+---------+-------------+----+--------+\n",
            "|  _c0|State|Country|    Lat|    Long|               Date|Confirmed| Death|Recovered|state_cleaned|City|Okay_now|\n",
            "+-----+-----+-------+-------+--------+-------------------+---------+------+---------+-------------+----+--------+\n",
            "|12979|Hubei|  China|30.9756|112.2707|2020-02-18 00:00:00|  61682.0|1921.0|   9128.0|        Hubei|null| 50633.0|\n",
            "|12504|Hubei|  China|30.9756|112.2707|2020-02-17 00:00:00|  59989.0|1789.0|   7862.0|        Hubei|null| 50338.0|\n",
            "|12029|Hubei|  China|30.9756|112.2707|2020-02-16 00:00:00|  58182.0|1696.0|   6639.0|        Hubei|null| 49847.0|\n",
            "|13454|Hubei|  China|30.9756|112.2707|2020-02-19 00:00:00|  62031.0|2029.0|  10337.0|        Hubei|null| 49665.0|\n",
            "|11554|Hubei|  China|30.9756|112.2707|2020-02-15 00:00:00|  56249.0|1596.0|   5623.0|        Hubei|null| 49030.0|\n",
            "|14404|Hubei|  China|30.9756|112.2707|2020-02-21 00:00:00|  62662.0|2144.0|  11881.0|        Hubei|null| 48637.0|\n",
            "|13929|Hubei|  China|30.9756|112.2707|2020-02-20 00:00:00|  62442.0|2144.0|  11788.0|        Hubei|null| 48510.0|\n",
            "|11079|Hubei|  China|30.9756|112.2707|2020-02-14 00:00:00|  54406.0|1457.0|   4774.0|        Hubei|null| 48175.0|\n",
            "|14879|Hubei|  China|30.9756|112.2707|2020-02-22 00:00:00|  64084.0|2346.0|  15299.0|        Hubei|null| 46439.0|\n",
            "|15354|Hubei|  China|30.9756|112.2707|2020-02-23 00:00:00|  64084.0|2346.0|  15343.0|        Hubei|null| 46395.0|\n",
            "|15829|Hubei|  China|30.9756|112.2707|2020-02-24 00:00:00|  64287.0|2495.0|  16748.0|        Hubei|null| 45044.0|\n",
            "|10604|Hubei|  China|30.9756|112.2707|2020-02-13 00:00:00|  48206.0|1310.0|   3459.0|        Hubei|null| 43437.0|\n",
            "|16304|Hubei|  China|30.9756|112.2707|2020-02-25 00:00:00|  64786.0|2563.0|  18971.0|        Hubei|null| 43252.0|\n",
            "|16779|Hubei|  China|30.9756|112.2707|2020-02-26 00:00:00|  65187.0|2615.0|  20969.0|        Hubei|null| 41603.0|\n",
            "|17254|Hubei|  China|30.9756|112.2707|2020-02-27 00:00:00|  65596.0|2641.0|  23383.0|        Hubei|null| 39572.0|\n",
            "|17729|Hubei|  China|30.9756|112.2707|2020-02-28 00:00:00|  65914.0|2682.0|  26403.0|        Hubei|null| 36829.0|\n",
            "|18204|Hubei|  China|30.9756|112.2707|2020-02-29 00:00:00|  66337.0|2727.0|  28993.0|        Hubei|null| 34617.0|\n",
            "|18679|Hubei|  China|30.9756|112.2707|2020-03-01 00:00:00|  66907.0|2761.0|  31536.0|        Hubei|null| 32610.0|\n",
            "|19154|Hubei|  China|30.9756|112.2707|2020-03-02 00:00:00|  67103.0|2803.0|  33934.0|        Hubei|null| 30366.0|\n",
            "| 9654|Hubei|  China|30.9756|112.2707|2020-02-11 00:00:00|  33366.0|1068.0|   2639.0|        Hubei|null| 29659.0|\n",
            "+-----+-----+-------+-------+--------+-------------------+---------+------+---------+-------------+----+--------+\n",
            "only showing top 20 rows\n",
            "\n"
          ],
          "name": "stdout"
        }
      ]
    },
    {
      "cell_type": "code",
      "metadata": {
        "id": "8HeAn_hwfh7Y"
      },
      "source": [
        "CV_data_new = CV_data.withColumn(\"Okay_now\",CV_data.Confirmed - CV_data.Recovered - CV_data.Death)"
      ],
      "execution_count": 60,
      "outputs": []
    },
    {
      "cell_type": "code",
      "metadata": {
        "colab": {
          "base_uri": "https://localhost:8080/"
        },
        "id": "IZ0vkif3eZo8",
        "outputId": "3b350b03-def3-41c2-e63c-207f6a909594"
      },
      "source": [
        "CV_data_new.groupBy(\"Country\").sum(\"Okay_now\").orderBy(\"sum(Okay_now)\",ascending=False).show()"
      ],
      "execution_count": 61,
      "outputs": [
        {
          "output_type": "stream",
          "text": [
            "+--------------+-------------+\n",
            "|       Country|sum(Okay_now)|\n",
            "+--------------+-------------+\n",
            "|         China|    1593132.0|\n",
            "|         Italy|     199874.0|\n",
            "|  Korea, South|     129398.0|\n",
            "|          Iran|      99690.0|\n",
            "|         Spain|      58194.0|\n",
            "|       Germany|      52971.0|\n",
            "|        France|      46884.0|\n",
            "|            US|      33182.0|\n",
            "|   Cruise Ship|      19623.0|\n",
            "|   Switzerland|      15788.0|\n",
            "|United Kingdom|      11345.0|\n",
            "|         Japan|      10371.0|\n",
            "|   Netherlands|      10349.0|\n",
            "|        Norway|      10203.0|\n",
            "|        Sweden|       8728.0|\n",
            "|       Belgium|       7548.0|\n",
            "|       Austria|       7194.0|\n",
            "|       Denmark|       7102.0|\n",
            "|      Malaysia|       3710.0|\n",
            "|         Qatar|       2995.0|\n",
            "+--------------+-------------+\n",
            "only showing top 20 rows\n",
            "\n"
          ],
          "name": "stdout"
        }
      ]
    }
  ]
}