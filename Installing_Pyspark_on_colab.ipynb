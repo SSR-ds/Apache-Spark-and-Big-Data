{
  "nbformat": 4,
  "nbformat_minor": 0,
  "metadata": {
    "colab": {
      "name": "Installing Pyspark on colab.ipynb",
      "provenance": [],
      "collapsed_sections": [],
      "authorship_tag": "ABX9TyNEN8QNrE9p0bnyMmJX1Kyw",
      "include_colab_link": true
    },
    "kernelspec": {
      "name": "python3",
      "display_name": "Python 3"
    }
  },
  "cells": [
    {
      "cell_type": "markdown",
      "metadata": {
        "id": "view-in-github",
        "colab_type": "text"
      },
      "source": [
        "<a href=\"https://colab.research.google.com/github/SSR-ds/Apache-Spark-and-Big-Data/blob/main/Installing_Pyspark_on_colab.ipynb\" target=\"_parent\"><img src=\"https://colab.research.google.com/assets/colab-badge.svg\" alt=\"Open In Colab\"/></a>"
      ]
    },
    {
      "cell_type": "code",
      "metadata": {
        "id": "XJ0IHXbdN7lv"
      },
      "source": [
        "#installing java 8 as spark is written in scala and requires jvm\r\n",
        "!apt-get install openjdk-8-jdk-headless -qq > /dev/null\r\n",
        "!wget -q https://downloads.apache.org/spark/spark-2.4.7/spark-2.4.7-bin-hadoop2.7.tgz\r\n",
        "!tar xf spark-2.4.7-bin-hadoop2.7.tgz\r\n",
        "!pip install -q findspark"
      ],
      "execution_count": null,
      "outputs": []
    },
    {
      "cell_type": "code",
      "metadata": {
        "colab": {
          "base_uri": "https://localhost:8080/"
        },
        "id": "9VDcOWoNSehs",
        "outputId": "629e5116-84ff-4050-f14f-49f5cbb00b2d"
      },
      "source": [
        "!ls /usr/lib/jvm/"
      ],
      "execution_count": null,
      "outputs": [
        {
          "output_type": "stream",
          "text": [
            "default-java\t\t   java-11-openjdk-amd64     java-8-openjdk-amd64\n",
            "java-1.11.0-openjdk-amd64  java-1.8.0-openjdk-amd64\n"
          ],
          "name": "stdout"
        }
      ]
    },
    {
      "cell_type": "code",
      "metadata": {
        "id": "q_uLYVwYgyCv",
        "colab": {
          "base_uri": "https://localhost:8080/"
        },
        "outputId": "e31d9bc0-2d5d-40f8-dc55-98802956f713"
      },
      "source": [
        "!ls"
      ],
      "execution_count": null,
      "outputs": [
        {
          "output_type": "stream",
          "text": [
            "index.html\t\t       sample_data\n",
            "index.html.1\t\t       spark-2.4.7-bin-hadoop2.7\n",
            "pyspark-2.4.7.tar.gz.sha512    spark-2.4.7-bin-hadoop2.7.tgz\n",
            "pyspark-2.4.7.tar.gz.sha512.1  SparkR_2.4.7.tar.gz.asc\n"
          ],
          "name": "stdout"
        }
      ]
    },
    {
      "cell_type": "code",
      "metadata": {
        "colab": {
          "base_uri": "https://localhost:8080/"
        },
        "id": "8kYM1zQ4Soiz",
        "outputId": "481bd79f-bb89-4e00-dd88-84235263cf26"
      },
      "source": [
        "!pip install -U pyarrow"
      ],
      "execution_count": null,
      "outputs": [
        {
          "output_type": "stream",
          "text": [
            "Collecting pyarrow\n",
            "\u001b[?25l  Downloading https://files.pythonhosted.org/packages/d7/e1/27958a70848f8f7089bff8d6ebe42519daf01f976d28b481e1bfd52c8097/pyarrow-2.0.0-cp36-cp36m-manylinux2014_x86_64.whl (17.7MB)\n",
            "\u001b[K     |████████████████████████████████| 17.7MB 240kB/s \n",
            "\u001b[?25hRequirement already satisfied, skipping upgrade: numpy>=1.14 in /usr/local/lib/python3.6/dist-packages (from pyarrow) (1.19.5)\n",
            "Installing collected packages: pyarrow\n",
            "  Found existing installation: pyarrow 0.14.1\n",
            "    Uninstalling pyarrow-0.14.1:\n",
            "      Successfully uninstalled pyarrow-0.14.1\n",
            "Successfully installed pyarrow-2.0.0\n"
          ],
          "name": "stdout"
        }
      ]
    },
    {
      "cell_type": "code",
      "metadata": {
        "id": "UxfFPzzhSx9W"
      },
      "source": [
        "import os \r\n",
        "\r\n",
        "os.environ[\"JAVA_HOME\"] = \"/usr/lib/jvm/java-8-openjdk-amd64\"\r\n",
        "os.environ[\"SPARK_HOME\"] = \"/content/spark-2.4.7-bin-hadoop2.7\""
      ],
      "execution_count": null,
      "outputs": []
    },
    {
      "cell_type": "code",
      "metadata": {
        "id": "IF7vlCOcTZkB"
      },
      "source": [
        "import findspark  "
      ],
      "execution_count": null,
      "outputs": []
    },
    {
      "cell_type": "code",
      "metadata": {
        "id": "B_L0IecaTdHo"
      },
      "source": [
        "findspark.init()"
      ],
      "execution_count": null,
      "outputs": []
    },
    {
      "cell_type": "code",
      "metadata": {
        "id": "8JmKEP_CT23D"
      },
      "source": [
        "from pyspark.sql import SparkSession"
      ],
      "execution_count": null,
      "outputs": []
    },
    {
      "cell_type": "code",
      "metadata": {
        "id": "NAPund0VT96X"
      },
      "source": [
        "spark = SparkSession.builder.master(\"local[*]\").getOrCreate()\r\n",
        "spark.conf.set(\"spark.executor.memory\", \"4g\")\r\n",
        "spark.conf.set(\"spark.driver.memory\", \"4g\")\r\n",
        "spark.conf.set(\"spark.memory.fraction\", \"0.9\")"
      ],
      "execution_count": null,
      "outputs": []
    },
    {
      "cell_type": "code",
      "metadata": {
        "id": "2Cm0BI4fUkj4"
      },
      "source": [
        "import sys, tempfile, urllib"
      ],
      "execution_count": null,
      "outputs": []
    },
    {
      "cell_type": "code",
      "metadata": {
        "id": "ppT3QGxXVC0K"
      },
      "source": [
        "BASE_DIR = '/tmp'\r\n",
        "OUTPUT_FILE = os.path.join(BASE_DIR, 'LC_data.csv')"
      ],
      "execution_count": null,
      "outputs": []
    },
    {
      "cell_type": "code",
      "metadata": {
        "id": "jKpkex8HVZeb"
      },
      "source": [
        "LC_data = urllib.request.urlretrieve('https://archive.ics.uci.edu/ml/machine-learning-databases/00246/3D_spatial_network.txt',OUTPUT_FILE)"
      ],
      "execution_count": null,
      "outputs": []
    },
    {
      "cell_type": "code",
      "metadata": {
        "colab": {
          "base_uri": "https://localhost:8080/"
        },
        "id": "NuxZIYQ9VvQ0",
        "outputId": "7a82b5ca-4914-4be1-9985-6fee8432af4c"
      },
      "source": [
        "!ls /tmp"
      ],
      "execution_count": null,
      "outputs": [
        {
          "output_type": "stream",
          "text": [
            "blockmgr-37d3609b-2a1a-4d15-bddc-508c196c0b98\n",
            "hsperfdata_root\n",
            "LC_data.csv\n",
            "liblz4-java819325380490386820.so\n",
            "spark-8cf73e2e-2e5f-40bc-aee7-7693892eca44\n",
            "spark-cf1cb586-5078-4cbd-a9ba-7729f1880aba\n"
          ],
          "name": "stdout"
        }
      ]
    },
    {
      "cell_type": "code",
      "metadata": {
        "id": "98OUw1vnVxWa"
      },
      "source": [
        "LC_data = spark.read.option(\"inferSchema\", \"true\").csv(\"/tmp/LC_data.csv\",header=False)  "
      ],
      "execution_count": null,
      "outputs": []
    },
    {
      "cell_type": "code",
      "metadata": {
        "colab": {
          "base_uri": "https://localhost:8080/"
        },
        "id": "wP8WZprUWPWw",
        "outputId": "b8a120f1-320e-4d96-f4e7-418bd8d8c142"
      },
      "source": [
        "LC_data.show()"
      ],
      "execution_count": null,
      "outputs": [
        {
          "output_type": "stream",
          "text": [
            "+---------+---------+----------+----------------+\n",
            "|      _c0|      _c1|       _c2|             _c3|\n",
            "+---------+---------+----------+----------------+\n",
            "|144552912|9.3498486|56.7408757|17.0527715677876|\n",
            "|144552912|9.3501884|56.7406785| 17.614840244389|\n",
            "|144552912|9.3505485|56.7405445|  18.08353563951|\n",
            "|144552912|9.3508058|56.7404845|18.2794652530352|\n",
            "|144552912|9.3510534|56.7404863|18.4229736146099|\n",
            "|144552912|9.3514747|56.7405022|19.1248885940143|\n",
            "|144552912|9.3521273|56.7405585|19.5905926656897|\n",
            "|144552912|9.3524201|56.7405974|19.6217636955693|\n",
            "|144552912|9.3525839| 56.740629|19.6599309194984|\n",
            "|144552912|9.3527255|56.7406626|19.4906695590218|\n",
            "|144552912|9.3530759|56.7408002|19.2302682047961|\n",
            "|144552912| 9.353404|56.7409042|18.2332801889404|\n",
            "|144552912|9.3537287|56.7409995|17.6008423536018|\n",
            "|144552912| 9.354179|56.7410594|17.6443793914607|\n",
            "|144552912| 9.354581|56.7411511|18.3974824566501|\n",
            "|144552912|9.3547868|56.7412058|18.8645551315113|\n",
            "|144552912|9.3551147|56.7412693|18.2477297711073|\n",
            "|144552912|9.3553365|56.7412905|18.0201293139063|\n",
            "|144552912| 9.355581|56.7412975| 18.322544090848|\n",
            "| 42991631|8.5856624|57.0106364|32.0776406065856|\n",
            "+---------+---------+----------+----------------+\n",
            "only showing top 20 rows\n",
            "\n"
          ],
          "name": "stdout"
        }
      ]
    },
    {
      "cell_type": "code",
      "metadata": {
        "colab": {
          "base_uri": "https://localhost:8080/"
        },
        "id": "GX4G0IBZWsuZ",
        "outputId": "332ba7b3-0f1a-4c64-a32a-902b5aac63f8"
      },
      "source": [
        "LC_data.count()"
      ],
      "execution_count": null,
      "outputs": [
        {
          "output_type": "execute_result",
          "data": {
            "text/plain": [
              "434874"
            ]
          },
          "metadata": {
            "tags": []
          },
          "execution_count": 61
        }
      ]
    }
  ]
}